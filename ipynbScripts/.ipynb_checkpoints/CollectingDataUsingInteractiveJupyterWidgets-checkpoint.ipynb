{
 "cells": [
  {
   "cell_type": "markdown",
   "id": "pleased-absolute",
   "metadata": {},
   "source": [
    "# Title: Collecting data using interactive Jupyter widgets  \n",
    "**Author details:** *Author:* Mairead Bermingham. *Contact details:* mairead.bermingham@ed.ac.uk.  \n",
    "**Notebook and data info:** This Notebook provides an example of using interactive jupyter-widgets and to collect the NHS England accident and emergency attendances and admissions (ae_attendances) data (your test data) and save it to your working ‘Data’ folder, and finally saving all the captured test data to your 'RawData'.  \n",
    "**Data:** Data consists of date, numerical data and character data from NHSRdatasets package. \n",
    "**Copyright statement:** This Notebook is the product of The University of Edinburgh.\n",
    "\n",
    "# Data\n",
    "The data you will be managing on the course are from the NHSRdatasets package. This package has been created to support skills development in the NHS-R community and contains several free datasets. The dataset set I have chosen to manage from the NHSRdatasets package is the NHS England accident and emergency (A&E) attendances and admissions (`ae_attendances`) data. The `ae_attendances` data includes reported attendances, four-hour breaches and admissions for all A&E departments in England for 2016/17 through 2018/19 (Apr-Mar). We previously selected a subset of the variables needed for my data capture tool, including period, attendances and breaches, and subsetted the data into test and training data. However, for this lesson, we will use the full `ae_attendances` dataset to demonstrate how to use interactive Jupyter-widgets from the *ipywidgets* package to collect all data types from the `ae_attendances` data. The R script \"./RScripts/LoadingNHSRdatasets_fulldata.R\" was used to subset the full `ae_attendances` data into test and training data.\n",
    "\n",
    "**Note**, you only need to set up widgets for the subset of the variables required for your data capture tool. We are using the full data set here, as you will be using interactive Jupyter widgets to collect different variables from your `ae_attendances` data subsets.\n",
    "\n",
    "### The *pandas* package\n",
    "To import the data, you will need to load the *pandas* package. The Python *pandas* package is used for data manipulation and analysis."
   ]
  },
  {
   "cell_type": "code",
   "execution_count": 144,
   "id": "frozen-attendance",
   "metadata": {
    "tags": [
     "remove_cell"
    ]
   },
   "outputs": [
    {
     "data": {
      "text/html": [
       "<div>\n",
       "<style scoped>\n",
       "    .dataframe tbody tr th:only-of-type {\n",
       "        vertical-align: middle;\n",
       "    }\n",
       "\n",
       "    .dataframe tbody tr th {\n",
       "        vertical-align: top;\n",
       "    }\n",
       "\n",
       "    .dataframe thead th {\n",
       "        text-align: right;\n",
       "    }\n",
       "</style>\n",
       "<table border=\"1\" class=\"dataframe\">\n",
       "  <thead>\n",
       "    <tr style=\"text-align: right;\">\n",
       "      <th></th>\n",
       "      <th>index</th>\n",
       "      <th>period</th>\n",
       "      <th>org_code</th>\n",
       "      <th>attendances</th>\n",
       "      <th>breaches</th>\n",
       "      <th>admissions</th>\n",
       "    </tr>\n",
       "  </thead>\n",
       "  <tbody>\n",
       "    <tr>\n",
       "      <th>0</th>\n",
       "      <td>2881</td>\n",
       "      <td>2016-07-01</td>\n",
       "      <td>RXK</td>\n",
       "      <td>14488</td>\n",
       "      <td>2128</td>\n",
       "      <td>3141</td>\n",
       "    </tr>\n",
       "    <tr>\n",
       "      <th>1</th>\n",
       "      <td>2896</td>\n",
       "      <td>2016-07-01</td>\n",
       "      <td>RNA</td>\n",
       "      <td>8947</td>\n",
       "      <td>596</td>\n",
       "      <td>2599</td>\n",
       "    </tr>\n",
       "    <tr>\n",
       "      <th>2</th>\n",
       "      <td>4258</td>\n",
       "      <td>2018-03-01</td>\n",
       "      <td>RXK</td>\n",
       "      <td>13805</td>\n",
       "      <td>3556</td>\n",
       "      <td>3429</td>\n",
       "    </tr>\n",
       "    <tr>\n",
       "      <th>3</th>\n",
       "      <td>4281</td>\n",
       "      <td>2018-03-01</td>\n",
       "      <td>RRK</td>\n",
       "      <td>9936</td>\n",
       "      <td>2154</td>\n",
       "      <td>3896</td>\n",
       "    </tr>\n",
       "    <tr>\n",
       "      <th>4</th>\n",
       "      <td>5043</td>\n",
       "      <td>2018-01-01</td>\n",
       "      <td>RLQ</td>\n",
       "      <td>4532</td>\n",
       "      <td>1263</td>\n",
       "      <td>1437</td>\n",
       "    </tr>\n",
       "    <tr>\n",
       "      <th>5</th>\n",
       "      <td>6471</td>\n",
       "      <td>2017-09-01</td>\n",
       "      <td>RWP</td>\n",
       "      <td>9817</td>\n",
       "      <td>2716</td>\n",
       "      <td>2921</td>\n",
       "    </tr>\n",
       "    <tr>\n",
       "      <th>6</th>\n",
       "      <td>7137</td>\n",
       "      <td>2017-07-01</td>\n",
       "      <td>RJC</td>\n",
       "      <td>5811</td>\n",
       "      <td>297</td>\n",
       "      <td>1617</td>\n",
       "    </tr>\n",
       "    <tr>\n",
       "      <th>7</th>\n",
       "      <td>7509</td>\n",
       "      <td>2017-06-01</td>\n",
       "      <td>RWP</td>\n",
       "      <td>10313</td>\n",
       "      <td>2824</td>\n",
       "      <td>3174</td>\n",
       "    </tr>\n",
       "    <tr>\n",
       "      <th>8</th>\n",
       "      <td>9577</td>\n",
       "      <td>2018-12-01</td>\n",
       "      <td>RXK</td>\n",
       "      <td>13604</td>\n",
       "      <td>4432</td>\n",
       "      <td>3744</td>\n",
       "    </tr>\n",
       "    <tr>\n",
       "      <th>9</th>\n",
       "      <td>10327</td>\n",
       "      <td>2018-10-01</td>\n",
       "      <td>RKB</td>\n",
       "      <td>12519</td>\n",
       "      <td>1937</td>\n",
       "      <td>4407</td>\n",
       "    </tr>\n",
       "    <tr>\n",
       "      <th>10</th>\n",
       "      <td>12530</td>\n",
       "      <td>2018-04-01</td>\n",
       "      <td>RL4</td>\n",
       "      <td>10709</td>\n",
       "      <td>1704</td>\n",
       "      <td>2544</td>\n",
       "    </tr>\n",
       "  </tbody>\n",
       "</table>\n",
       "</div>"
      ],
      "text/plain": [
       "    index      period org_code  attendances  breaches  admissions\n",
       "0    2881  2016-07-01      RXK        14488      2128        3141\n",
       "1    2896  2016-07-01      RNA         8947       596        2599\n",
       "2    4258  2018-03-01      RXK        13805      3556        3429\n",
       "3    4281  2018-03-01      RRK         9936      2154        3896\n",
       "4    5043  2018-01-01      RLQ         4532      1263        1437\n",
       "5    6471  2017-09-01      RWP         9817      2716        2921\n",
       "6    7137  2017-07-01      RJC         5811       297        1617\n",
       "7    7509  2017-06-01      RWP        10313      2824        3174\n",
       "8    9577  2018-12-01      RXK        13604      4432        3744\n",
       "9   10327  2018-10-01      RKB        12519      1937        4407\n",
       "10  12530  2018-04-01      RL4        10709      1704        2544"
      ]
     },
     "execution_count": 144,
     "metadata": {},
     "output_type": "execute_result"
    }
   ],
   "source": [
    "#Load the 'pandas' package\n",
    "import pandas as pd\n",
    "testData=pd.read_csv(\"../Data/ae_attendances_test.csv\")\n",
    "testData"
   ]
  },
  {
   "cell_type": "markdown",
   "id": "specific-location",
   "metadata": {},
   "source": [
    "#### Data type\n",
    "We now need to check the data type in the testData data frame. Let us use the `dtypes` function from the Python *pandas* package to query the data types in the testData. The `dtypes` function returns the data types in the data frame."
   ]
  },
  {
   "cell_type": "code",
   "execution_count": 145,
   "id": "friendly-pennsylvania",
   "metadata": {
    "tags": [
     "hide-input"
    ]
   },
   "outputs": [
    {
     "name": "stdout",
     "output_type": "stream",
     "text": [
      "Output:\n",
      "index           int64\n",
      "period         object\n",
      "org_code       object\n",
      "attendances     int64\n",
      "breaches        int64\n",
      "admissions      int64\n",
      "dtype: object\n"
     ]
    }
   ],
   "source": [
    "result = testData.dtypes\n",
    "print(\"Output:\")\n",
    "print(result)"
   ]
  },
  {
   "cell_type": "markdown",
   "id": "broken-consciousness",
   "metadata": {},
   "source": [
    "The data type object is a string"
   ]
  },
  {
   "cell_type": "markdown",
   "id": "illegal-weekend",
   "metadata": {},
   "source": [
    "Now let us collect the first row of data from the test data. \n",
    "Use the `df.head()` function to see the first row in the data frame(df).\n",
    "\n",
    "##### The `head()` function\n",
    "The `head()` function lets you look at the top n rows of a data frame. By default, it shows the first five rows in a data frame. We can specify the number of rows we want to see in a data frame with the argument “n”. For example, look at the first row (n=1) of the test data:"
   ]
  },
  {
   "cell_type": "code",
   "execution_count": 146,
   "id": "separated-bottle",
   "metadata": {},
   "outputs": [
    {
     "data": {
      "text/html": [
       "<div>\n",
       "<style scoped>\n",
       "    .dataframe tbody tr th:only-of-type {\n",
       "        vertical-align: middle;\n",
       "    }\n",
       "\n",
       "    .dataframe tbody tr th {\n",
       "        vertical-align: top;\n",
       "    }\n",
       "\n",
       "    .dataframe thead th {\n",
       "        text-align: right;\n",
       "    }\n",
       "</style>\n",
       "<table border=\"1\" class=\"dataframe\">\n",
       "  <thead>\n",
       "    <tr style=\"text-align: right;\">\n",
       "      <th></th>\n",
       "      <th>index</th>\n",
       "      <th>period</th>\n",
       "      <th>org_code</th>\n",
       "      <th>attendances</th>\n",
       "      <th>breaches</th>\n",
       "      <th>admissions</th>\n",
       "    </tr>\n",
       "  </thead>\n",
       "  <tbody>\n",
       "    <tr>\n",
       "      <th>0</th>\n",
       "      <td>2881</td>\n",
       "      <td>2016-07-01</td>\n",
       "      <td>RXK</td>\n",
       "      <td>14488</td>\n",
       "      <td>2128</td>\n",
       "      <td>3141</td>\n",
       "    </tr>\n",
       "  </tbody>\n",
       "</table>\n",
       "</div>"
      ],
      "text/plain": [
       "   index      period org_code  attendances  breaches  admissions\n",
       "0   2881  2016-07-01      RXK        14488      2128        3141"
      ]
     },
     "execution_count": 146,
     "metadata": {},
     "output_type": "execute_result"
    }
   ],
   "source": [
    "testData.head(n=1)"
   ]
  },
  {
   "cell_type": "markdown",
   "id": "hydraulic-checkout",
   "metadata": {},
   "source": [
    "We need to set up an empty data frame in the working data folder to collect the data captured by the Juypter widgets."
   ]
  },
  {
   "cell_type": "code",
   "execution_count": 198,
   "id": "residential-index",
   "metadata": {
    "tags": [
     "hide-input"
    ]
   },
   "outputs": [
    {
     "data": {
      "text/html": [
       "<div>\n",
       "<style scoped>\n",
       "    .dataframe tbody tr th:only-of-type {\n",
       "        vertical-align: middle;\n",
       "    }\n",
       "\n",
       "    .dataframe tbody tr th {\n",
       "        vertical-align: top;\n",
       "    }\n",
       "\n",
       "    .dataframe thead th {\n",
       "        text-align: right;\n",
       "    }\n",
       "</style>\n",
       "<table border=\"1\" class=\"dataframe\">\n",
       "  <thead>\n",
       "    <tr style=\"text-align: right;\">\n",
       "      <th></th>\n",
       "      <th>index</th>\n",
       "      <th>period</th>\n",
       "      <th>org_code</th>\n",
       "      <th>attendances</th>\n",
       "      <th>breaches</th>\n",
       "      <th>admissions</th>\n",
       "      <th>breach_performance</th>\n",
       "      <th>admission_rate</th>\n",
       "      <th>consent</th>\n",
       "    </tr>\n",
       "  </thead>\n",
       "  <tbody>\n",
       "    <tr>\n",
       "      <th>0</th>\n",
       "      <td>0</td>\n",
       "      <td>2000-01-01</td>\n",
       "      <td>NA</td>\n",
       "      <td>0</td>\n",
       "      <td>0</td>\n",
       "      <td>0</td>\n",
       "      <td>0.0</td>\n",
       "      <td>0.0</td>\n",
       "      <td>False</td>\n",
       "    </tr>\n",
       "  </tbody>\n",
       "</table>\n",
       "</div>"
      ],
      "text/plain": [
       "   index     period org_code  attendances  breaches  admissions  \\\n",
       "0      0 2000-01-01       NA            0         0           0   \n",
       "\n",
       "   breach_performance  admission_rate  consent  \n",
       "0                 0.0             0.0    False  "
      ]
     },
     "execution_count": 198,
     "metadata": {},
     "output_type": "execute_result"
    }
   ],
   "source": [
    "dfTofill = pd.DataFrame({'index': [0],# Integer\n",
    "                   'period': [pd.Timestamp('20000101')], # Date\n",
    "                   'org_code': ['NA'], # String\n",
    "                   'attendances': [0], # Integer\n",
    "                   'breaches': [0], # Integer\n",
    "                   'admissions': [0], # Integer\n",
    "                   'breach_performance': [0.0], # Float\n",
    "                   'admission_rate': [0.0], #Float\n",
    "                   'consent': [False]}) # Boolean \n",
    "\n",
    "dfTofill"
   ]
  },
  {
   "cell_type": "markdown",
   "id": "located-recruitment",
   "metadata": {},
   "source": [
    "Save the empty data frame to your working 'Data' folder:"
   ]
  },
  {
   "cell_type": "code",
   "execution_count": 199,
   "id": "animated-envelope",
   "metadata": {
    "tags": [
     "hide-input"
    ]
   },
   "outputs": [],
   "source": [
    "#dfTofill.to_csv('../Data/CollectedData.csv', index=False)"
   ]
  },
  {
   "cell_type": "markdown",
   "id": "spiritual-comparative",
   "metadata": {},
   "source": [
    "The empty data frame is now saved to the working 'Data' folder. Now make sure to comment out the last cell (Ctrl+/), as you only need to do this once. Now let's read in the empty data frame to collect the data from the Jupyter-widgets."
   ]
  },
  {
   "cell_type": "code",
   "execution_count": 200,
   "id": "quantitative-wholesale",
   "metadata": {},
   "outputs": [
    {
     "data": {
      "text/html": [
       "<div>\n",
       "<style scoped>\n",
       "    .dataframe tbody tr th:only-of-type {\n",
       "        vertical-align: middle;\n",
       "    }\n",
       "\n",
       "    .dataframe tbody tr th {\n",
       "        vertical-align: top;\n",
       "    }\n",
       "\n",
       "    .dataframe thead th {\n",
       "        text-align: right;\n",
       "    }\n",
       "</style>\n",
       "<table border=\"1\" class=\"dataframe\">\n",
       "  <thead>\n",
       "    <tr style=\"text-align: right;\">\n",
       "      <th></th>\n",
       "      <th>index</th>\n",
       "      <th>period</th>\n",
       "      <th>org_code</th>\n",
       "      <th>attendances</th>\n",
       "      <th>breaches</th>\n",
       "      <th>admissions</th>\n",
       "      <th>breach_performance</th>\n",
       "      <th>admission_rate</th>\n",
       "      <th>consent</th>\n",
       "    </tr>\n",
       "  </thead>\n",
       "  <tbody>\n",
       "    <tr>\n",
       "      <th>0</th>\n",
       "      <td>0</td>\n",
       "      <td>2000-01-01</td>\n",
       "      <td>NaN</td>\n",
       "      <td>0</td>\n",
       "      <td>0</td>\n",
       "      <td>0</td>\n",
       "      <td>0.0</td>\n",
       "      <td>0.0</td>\n",
       "      <td>False</td>\n",
       "    </tr>\n",
       "  </tbody>\n",
       "</table>\n",
       "</div>"
      ],
      "text/plain": [
       "   index      period  org_code  attendances  breaches  admissions  \\\n",
       "0      0  2000-01-01       NaN            0         0           0   \n",
       "\n",
       "   breach_performance  admission_rate  consent  \n",
       "0                 0.0             0.0    False  "
      ]
     },
     "execution_count": 200,
     "metadata": {},
     "output_type": "execute_result"
    }
   ],
   "source": [
    "CollectData=pd.read_csv(\"../Data/CollectedData.csv\")\n",
    "CollectData"
   ]
  },
  {
   "cell_type": "markdown",
   "id": "monetary-millennium",
   "metadata": {},
   "source": [
    "Now let us collect the first row of data from the test data. \n",
    "Use the `df.head()` function to see the first row in the data frame(df).\n",
    "\n",
    "##### The `head()` function\n",
    "The `head()` function lets you look at the top n rows of a data frame. By default, it shows the first five rows in a data frame. We can specify the number of rows we want to see in a data frame with the argument “n”. For example, look at the first row (n=1) of the test data:"
   ]
  },
  {
   "cell_type": "code",
   "execution_count": 370,
   "id": "bridal-heart",
   "metadata": {},
   "outputs": [
    {
     "data": {
      "text/html": [
       "<div>\n",
       "<style scoped>\n",
       "    .dataframe tbody tr th:only-of-type {\n",
       "        vertical-align: middle;\n",
       "    }\n",
       "\n",
       "    .dataframe tbody tr th {\n",
       "        vertical-align: top;\n",
       "    }\n",
       "\n",
       "    .dataframe thead th {\n",
       "        text-align: right;\n",
       "    }\n",
       "</style>\n",
       "<table border=\"1\" class=\"dataframe\">\n",
       "  <thead>\n",
       "    <tr style=\"text-align: right;\">\n",
       "      <th></th>\n",
       "      <th>index</th>\n",
       "      <th>period</th>\n",
       "      <th>org_code</th>\n",
       "      <th>attendances</th>\n",
       "      <th>breaches</th>\n",
       "      <th>admissions</th>\n",
       "    </tr>\n",
       "  </thead>\n",
       "  <tbody>\n",
       "    <tr>\n",
       "      <th>0</th>\n",
       "      <td>2881</td>\n",
       "      <td>2016-07-01</td>\n",
       "      <td>RXK</td>\n",
       "      <td>14488</td>\n",
       "      <td>2128</td>\n",
       "      <td>3141</td>\n",
       "    </tr>\n",
       "    <tr>\n",
       "      <th>1</th>\n",
       "      <td>2896</td>\n",
       "      <td>2016-07-01</td>\n",
       "      <td>RNA</td>\n",
       "      <td>8947</td>\n",
       "      <td>596</td>\n",
       "      <td>2599</td>\n",
       "    </tr>\n",
       "    <tr>\n",
       "      <th>2</th>\n",
       "      <td>4258</td>\n",
       "      <td>2018-03-01</td>\n",
       "      <td>RXK</td>\n",
       "      <td>13805</td>\n",
       "      <td>3556</td>\n",
       "      <td>3429</td>\n",
       "    </tr>\n",
       "    <tr>\n",
       "      <th>3</th>\n",
       "      <td>4281</td>\n",
       "      <td>2018-03-01</td>\n",
       "      <td>RRK</td>\n",
       "      <td>9936</td>\n",
       "      <td>2154</td>\n",
       "      <td>3896</td>\n",
       "    </tr>\n",
       "    <tr>\n",
       "      <th>4</th>\n",
       "      <td>5043</td>\n",
       "      <td>2018-01-01</td>\n",
       "      <td>RLQ</td>\n",
       "      <td>4532</td>\n",
       "      <td>1263</td>\n",
       "      <td>1437</td>\n",
       "    </tr>\n",
       "    <tr>\n",
       "      <th>5</th>\n",
       "      <td>6471</td>\n",
       "      <td>2017-09-01</td>\n",
       "      <td>RWP</td>\n",
       "      <td>9817</td>\n",
       "      <td>2716</td>\n",
       "      <td>2921</td>\n",
       "    </tr>\n",
       "    <tr>\n",
       "      <th>6</th>\n",
       "      <td>7137</td>\n",
       "      <td>2017-07-01</td>\n",
       "      <td>RJC</td>\n",
       "      <td>5811</td>\n",
       "      <td>297</td>\n",
       "      <td>1617</td>\n",
       "    </tr>\n",
       "    <tr>\n",
       "      <th>7</th>\n",
       "      <td>7509</td>\n",
       "      <td>2017-06-01</td>\n",
       "      <td>RWP</td>\n",
       "      <td>10313</td>\n",
       "      <td>2824</td>\n",
       "      <td>3174</td>\n",
       "    </tr>\n",
       "    <tr>\n",
       "      <th>8</th>\n",
       "      <td>9577</td>\n",
       "      <td>2018-12-01</td>\n",
       "      <td>RXK</td>\n",
       "      <td>13604</td>\n",
       "      <td>4432</td>\n",
       "      <td>3744</td>\n",
       "    </tr>\n",
       "    <tr>\n",
       "      <th>9</th>\n",
       "      <td>10327</td>\n",
       "      <td>2018-10-01</td>\n",
       "      <td>RKB</td>\n",
       "      <td>12519</td>\n",
       "      <td>1937</td>\n",
       "      <td>4407</td>\n",
       "    </tr>\n",
       "    <tr>\n",
       "      <th>10</th>\n",
       "      <td>12530</td>\n",
       "      <td>2018-04-01</td>\n",
       "      <td>RL4</td>\n",
       "      <td>10709</td>\n",
       "      <td>1704</td>\n",
       "      <td>2544</td>\n",
       "    </tr>\n",
       "  </tbody>\n",
       "</table>\n",
       "</div>"
      ],
      "text/plain": [
       "    index      period org_code  attendances  breaches  admissions\n",
       "0    2881  2016-07-01      RXK        14488      2128        3141\n",
       "1    2896  2016-07-01      RNA         8947       596        2599\n",
       "2    4258  2018-03-01      RXK        13805      3556        3429\n",
       "3    4281  2018-03-01      RRK         9936      2154        3896\n",
       "4    5043  2018-01-01      RLQ         4532      1263        1437\n",
       "5    6471  2017-09-01      RWP         9817      2716        2921\n",
       "6    7137  2017-07-01      RJC         5811       297        1617\n",
       "7    7509  2017-06-01      RWP        10313      2824        3174\n",
       "8    9577  2018-12-01      RXK        13604      4432        3744\n",
       "9   10327  2018-10-01      RKB        12519      1937        4407\n",
       "10  12530  2018-04-01      RL4        10709      1704        2544"
      ]
     },
     "execution_count": 370,
     "metadata": {},
     "output_type": "execute_result"
    }
   ],
   "source": [
    "testData.head(n=11)"
   ]
  },
  {
   "cell_type": "markdown",
   "id": "sealed-chemistry",
   "metadata": {},
   "source": [
    "# Index variable \n",
    "The first variable contains the index number, that allows us to connect the test data to the orginal data set \"../RawData/ae_attendances.csv\". We will have to use indexing to to add the index number to the 'dfTofill' file\n",
    "\n",
    "###  Indexing in Python\n",
    "Indexing in Python is a way to refer the individual items by its position. In other words, you can directly access your elements of choice. In Python, objects are “zero-indexed” meaning the position count starts at zero. "
   ]
  },
  {
   "cell_type": "code",
   "execution_count": 371,
   "id": "entire-soundtrack",
   "metadata": {},
   "outputs": [
    {
     "data": {
      "text/html": [
       "<div>\n",
       "<style scoped>\n",
       "    .dataframe tbody tr th:only-of-type {\n",
       "        vertical-align: middle;\n",
       "    }\n",
       "\n",
       "    .dataframe tbody tr th {\n",
       "        vertical-align: top;\n",
       "    }\n",
       "\n",
       "    .dataframe thead th {\n",
       "        text-align: right;\n",
       "    }\n",
       "</style>\n",
       "<table border=\"1\" class=\"dataframe\">\n",
       "  <thead>\n",
       "    <tr style=\"text-align: right;\">\n",
       "      <th></th>\n",
       "      <th>index</th>\n",
       "      <th>period</th>\n",
       "      <th>org_code</th>\n",
       "      <th>attendances</th>\n",
       "      <th>breaches</th>\n",
       "      <th>admissions</th>\n",
       "      <th>breach_performance</th>\n",
       "      <th>admission_rate</th>\n",
       "      <th>consent</th>\n",
       "    </tr>\n",
       "  </thead>\n",
       "  <tbody>\n",
       "    <tr>\n",
       "      <th>0</th>\n",
       "      <td>12530</td>\n",
       "      <td>2018-10-01</td>\n",
       "      <td>RKB</td>\n",
       "      <td>12519</td>\n",
       "      <td>1937</td>\n",
       "      <td>4407</td>\n",
       "      <td>0.352025</td>\n",
       "      <td>0.352025</td>\n",
       "      <td>True</td>\n",
       "    </tr>\n",
       "  </tbody>\n",
       "</table>\n",
       "</div>"
      ],
      "text/plain": [
       "   index      period org_code  attendances  breaches  admissions  \\\n",
       "0  12530  2018-10-01      RKB        12519      1937        4407   \n",
       "\n",
       "   breach_performance  admission_rate  consent  \n",
       "0            0.352025        0.352025     True  "
      ]
     },
     "execution_count": 371,
     "metadata": {},
     "output_type": "execute_result"
    }
   ],
   "source": [
    "index_number=12530 #Remember to change for each record.\n",
    "dfTofill.iloc[0,0]=index_number\n",
    "dfTofill"
   ]
  },
  {
   "cell_type": "markdown",
   "id": "attempted-understanding",
   "metadata": {},
   "source": [
    "# Widgets\n",
    "Widgets are interactive Python objects that have a representation in the browser. A widget is a graphical user interface element, such as a button, dropdown or textbox. Widgets can be embedded in the Notebook and provide a user-friendly interface to collect the user input and see the impact the changes have on the data/results without interacting with your code. Widgets can transform your notebooks from static documents to dynamic dashboards, ideal for showcasing your data story.\n",
    "\n",
    "To use the widget framework, you need to import the *ipywidgets* Python package. The *ipywidgets* package provides a list of widgets commonly used in web apps and dashboards like dropdown, checkbox, radio buttons, etc."
   ]
  },
  {
   "cell_type": "code",
   "execution_count": 9,
   "id": "accredited-contrary",
   "metadata": {},
   "outputs": [],
   "source": [
    "#Load the 'ipywidgets' package\n",
    "import ipywidgets as widgets"
   ]
  },
  {
   "cell_type": "markdown",
   "id": "adjusted-medium",
   "metadata": {},
   "source": [
    "### `display()`\n",
    "\n",
    "The *IPython.display* package is used to display different objects in Jupyter. \n",
    "You can also explicitly display a widget using the `display()` function from the *IPython.display* package"
   ]
  },
  {
   "cell_type": "code",
   "execution_count": 10,
   "id": "numerous-constitution",
   "metadata": {},
   "outputs": [],
   "source": [
    "#Load the 'IPython.display' package\n",
    "from IPython.display import display"
   ]
  },
  {
   "cell_type": "markdown",
   "id": "covered-effects",
   "metadata": {},
   "source": [
    "# Consent\n",
    "Consent is a vital area for data protection compliance. Consent means giving data subjects genuine choice and control over how you process their data. If the data subject has no real choice, consent is not freely given, and it will be invalid. The [General Data Protection Regulation](https://eu01.alma.exlibrisgroup.com/leganto/public/44UOE_INST/citation/37632538310002466?auth=SAML) sets a high standard for consent and contains significantly more detail than previous data protection legislation. Consent is defined in Article 4 as: “Consent of the data subject means any freely given, specific informed and unambiguous indication of the data subject’s wishes by which he or she, by a statement or by a clear affirmative action, signifies agreement to the processing of personal data relating to him or her”.\n",
    "\n",
    "Before we collect any data, we need to get consent from the end-user to process and share the data we will collect with the data capture tool."
   ]
  },
  {
   "cell_type": "markdown",
   "id": "union-gnome",
   "metadata": {},
   "source": [
    "## Boolean widgets\n",
    "Boolean widgets are designed to display a boolean value.\n",
    "\n",
    "### Checkbox widget"
   ]
  },
  {
   "cell_type": "code",
   "execution_count": 11,
   "id": "impaired-justice",
   "metadata": {
    "tags": [
     "hide-input"
    ]
   },
   "outputs": [],
   "source": [
    "a = widgets.Checkbox(\n",
    "    value=False,\n",
    "    description='I consent for the data I have provided to be processed and shared in accordance with data protection regulations with the purpose of improving care service provision across the UK.',\n",
    "    disabled=False\n",
    ")"
   ]
  },
  {
   "cell_type": "code",
   "execution_count": 12,
   "id": "compact-worship",
   "metadata": {
    "tags": [
     "hide-input"
    ]
   },
   "outputs": [
    {
     "data": {
      "application/vnd.jupyter.widget-view+json": {
       "model_id": "6dab77350d044ab5b35b45809c4d20c0",
       "version_major": 2,
       "version_minor": 0
      },
      "text/plain": [
       "Checkbox(value=False, description='I consent for the data I have provided to be processed and shared in accord…"
      ]
     },
     "metadata": {},
     "output_type": "display_data"
    }
   ],
   "source": [
    "display(a)"
   ]
  },
  {
   "cell_type": "code",
   "execution_count": 372,
   "id": "comfortable-lighter",
   "metadata": {},
   "outputs": [
    {
     "data": {
      "text/html": [
       "<div>\n",
       "<style scoped>\n",
       "    .dataframe tbody tr th:only-of-type {\n",
       "        vertical-align: middle;\n",
       "    }\n",
       "\n",
       "    .dataframe tbody tr th {\n",
       "        vertical-align: top;\n",
       "    }\n",
       "\n",
       "    .dataframe thead th {\n",
       "        text-align: right;\n",
       "    }\n",
       "</style>\n",
       "<table border=\"1\" class=\"dataframe\">\n",
       "  <thead>\n",
       "    <tr style=\"text-align: right;\">\n",
       "      <th></th>\n",
       "      <th>index</th>\n",
       "      <th>period</th>\n",
       "      <th>org_code</th>\n",
       "      <th>attendances</th>\n",
       "      <th>breaches</th>\n",
       "      <th>admissions</th>\n",
       "      <th>breach_performance</th>\n",
       "      <th>admission_rate</th>\n",
       "      <th>consent</th>\n",
       "    </tr>\n",
       "  </thead>\n",
       "  <tbody>\n",
       "    <tr>\n",
       "      <th>0</th>\n",
       "      <td>12530</td>\n",
       "      <td>2018-10-01</td>\n",
       "      <td>RKB</td>\n",
       "      <td>12519</td>\n",
       "      <td>1937</td>\n",
       "      <td>4407</td>\n",
       "      <td>0.352025</td>\n",
       "      <td>0.352025</td>\n",
       "      <td>True</td>\n",
       "    </tr>\n",
       "  </tbody>\n",
       "</table>\n",
       "</div>"
      ],
      "text/plain": [
       "   index      period org_code  attendances  breaches  admissions  \\\n",
       "0  12530  2018-10-01      RKB        12519      1937        4407   \n",
       "\n",
       "   breach_performance  admission_rate  consent  \n",
       "0            0.352025        0.352025     True  "
      ]
     },
     "execution_count": 372,
     "metadata": {},
     "output_type": "execute_result"
    }
   ],
   "source": [
    "dfTofill.iloc[0,8]=a.value\n",
    "dfTofill"
   ]
  },
  {
   "cell_type": "markdown",
   "id": "reported-arrest",
   "metadata": {},
   "source": [
    "# The period variable  \n",
    "The period variable includes the month this activity relates to, stored as a date (1st of each month).  \n",
    "\n",
    "#### Data type\n",
    "We now need to check the data type in the testData data frame. Let us use the `dtypes` function from the Python *pandas* package to query the data types in the testData. The `dtypes` function returns the data types in the data frame."
   ]
  },
  {
   "cell_type": "code",
   "execution_count": 14,
   "id": "higher-framework",
   "metadata": {},
   "outputs": [
    {
     "name": "stdout",
     "output_type": "stream",
     "text": [
      "object\n"
     ]
    }
   ],
   "source": [
    "print(result[1])\n",
    "#String data type"
   ]
  },
  {
   "cell_type": "markdown",
   "id": "mature-persian",
   "metadata": {},
   "source": [
    "The data type object is a string."
   ]
  },
  {
   "cell_type": "markdown",
   "id": "continent-camcorder",
   "metadata": {},
   "source": [
    "##### The `head()` function\n",
    "The `head()` function lets you look at the top n rows of a data frame. By default, it shows the first five rows in a data frame. We can specify the number of rows we want to see in a data frame with the argument “n”. For example, look at the first row (n=1) of the test data:"
   ]
  },
  {
   "cell_type": "code",
   "execution_count": 373,
   "id": "reliable-acrobat",
   "metadata": {},
   "outputs": [
    {
     "data": {
      "text/html": [
       "<div>\n",
       "<style scoped>\n",
       "    .dataframe tbody tr th:only-of-type {\n",
       "        vertical-align: middle;\n",
       "    }\n",
       "\n",
       "    .dataframe tbody tr th {\n",
       "        vertical-align: top;\n",
       "    }\n",
       "\n",
       "    .dataframe thead th {\n",
       "        text-align: right;\n",
       "    }\n",
       "</style>\n",
       "<table border=\"1\" class=\"dataframe\">\n",
       "  <thead>\n",
       "    <tr style=\"text-align: right;\">\n",
       "      <th></th>\n",
       "      <th>index</th>\n",
       "      <th>period</th>\n",
       "      <th>org_code</th>\n",
       "      <th>attendances</th>\n",
       "      <th>breaches</th>\n",
       "      <th>admissions</th>\n",
       "    </tr>\n",
       "  </thead>\n",
       "  <tbody>\n",
       "    <tr>\n",
       "      <th>0</th>\n",
       "      <td>2881</td>\n",
       "      <td>2016-07-01</td>\n",
       "      <td>RXK</td>\n",
       "      <td>14488</td>\n",
       "      <td>2128</td>\n",
       "      <td>3141</td>\n",
       "    </tr>\n",
       "    <tr>\n",
       "      <th>1</th>\n",
       "      <td>2896</td>\n",
       "      <td>2016-07-01</td>\n",
       "      <td>RNA</td>\n",
       "      <td>8947</td>\n",
       "      <td>596</td>\n",
       "      <td>2599</td>\n",
       "    </tr>\n",
       "    <tr>\n",
       "      <th>2</th>\n",
       "      <td>4258</td>\n",
       "      <td>2018-03-01</td>\n",
       "      <td>RXK</td>\n",
       "      <td>13805</td>\n",
       "      <td>3556</td>\n",
       "      <td>3429</td>\n",
       "    </tr>\n",
       "    <tr>\n",
       "      <th>3</th>\n",
       "      <td>4281</td>\n",
       "      <td>2018-03-01</td>\n",
       "      <td>RRK</td>\n",
       "      <td>9936</td>\n",
       "      <td>2154</td>\n",
       "      <td>3896</td>\n",
       "    </tr>\n",
       "    <tr>\n",
       "      <th>4</th>\n",
       "      <td>5043</td>\n",
       "      <td>2018-01-01</td>\n",
       "      <td>RLQ</td>\n",
       "      <td>4532</td>\n",
       "      <td>1263</td>\n",
       "      <td>1437</td>\n",
       "    </tr>\n",
       "    <tr>\n",
       "      <th>5</th>\n",
       "      <td>6471</td>\n",
       "      <td>2017-09-01</td>\n",
       "      <td>RWP</td>\n",
       "      <td>9817</td>\n",
       "      <td>2716</td>\n",
       "      <td>2921</td>\n",
       "    </tr>\n",
       "    <tr>\n",
       "      <th>6</th>\n",
       "      <td>7137</td>\n",
       "      <td>2017-07-01</td>\n",
       "      <td>RJC</td>\n",
       "      <td>5811</td>\n",
       "      <td>297</td>\n",
       "      <td>1617</td>\n",
       "    </tr>\n",
       "    <tr>\n",
       "      <th>7</th>\n",
       "      <td>7509</td>\n",
       "      <td>2017-06-01</td>\n",
       "      <td>RWP</td>\n",
       "      <td>10313</td>\n",
       "      <td>2824</td>\n",
       "      <td>3174</td>\n",
       "    </tr>\n",
       "    <tr>\n",
       "      <th>8</th>\n",
       "      <td>9577</td>\n",
       "      <td>2018-12-01</td>\n",
       "      <td>RXK</td>\n",
       "      <td>13604</td>\n",
       "      <td>4432</td>\n",
       "      <td>3744</td>\n",
       "    </tr>\n",
       "    <tr>\n",
       "      <th>9</th>\n",
       "      <td>10327</td>\n",
       "      <td>2018-10-01</td>\n",
       "      <td>RKB</td>\n",
       "      <td>12519</td>\n",
       "      <td>1937</td>\n",
       "      <td>4407</td>\n",
       "    </tr>\n",
       "    <tr>\n",
       "      <th>10</th>\n",
       "      <td>12530</td>\n",
       "      <td>2018-04-01</td>\n",
       "      <td>RL4</td>\n",
       "      <td>10709</td>\n",
       "      <td>1704</td>\n",
       "      <td>2544</td>\n",
       "    </tr>\n",
       "  </tbody>\n",
       "</table>\n",
       "</div>"
      ],
      "text/plain": [
       "    index      period org_code  attendances  breaches  admissions\n",
       "0    2881  2016-07-01      RXK        14488      2128        3141\n",
       "1    2896  2016-07-01      RNA         8947       596        2599\n",
       "2    4258  2018-03-01      RXK        13805      3556        3429\n",
       "3    4281  2018-03-01      RRK         9936      2154        3896\n",
       "4    5043  2018-01-01      RLQ         4532      1263        1437\n",
       "5    6471  2017-09-01      RWP         9817      2716        2921\n",
       "6    7137  2017-07-01      RJC         5811       297        1617\n",
       "7    7509  2017-06-01      RWP        10313      2824        3174\n",
       "8    9577  2018-12-01      RXK        13604      4432        3744\n",
       "9   10327  2018-10-01      RKB        12519      1937        4407\n",
       "10  12530  2018-04-01      RL4        10709      1704        2544"
      ]
     },
     "execution_count": 373,
     "metadata": {},
     "output_type": "execute_result"
    }
   ],
   "source": [
    "testData.head(n=11)"
   ]
  },
  {
   "cell_type": "markdown",
   "id": "interpreted-cooper",
   "metadata": {},
   "source": [
    "### DatePicker widget \n",
    "We next need to set up a DatePicker widget to collect the period data."
   ]
  },
  {
   "cell_type": "code",
   "execution_count": 16,
   "id": "coastal-delivery",
   "metadata": {},
   "outputs": [
    {
     "data": {
      "application/vnd.jupyter.widget-view+json": {
       "model_id": "abcd3c99f46f42b7ae0699627bec7c7c",
       "version_major": 2,
       "version_minor": 0
      },
      "text/plain": [
       "DatePicker(value=None, description='Period')"
      ]
     },
     "metadata": {},
     "output_type": "display_data"
    }
   ],
   "source": [
    "b = widgets.DatePicker(\n",
    "    description='Period',\n",
    "    disabled=False\n",
    ")\n",
    "display(b)"
   ]
  },
  {
   "cell_type": "code",
   "execution_count": 374,
   "id": "touched-donor",
   "metadata": {
    "tags": [
     "hide-input"
    ]
   },
   "outputs": [
    {
     "data": {
      "text/html": [
       "<div>\n",
       "<style scoped>\n",
       "    .dataframe tbody tr th:only-of-type {\n",
       "        vertical-align: middle;\n",
       "    }\n",
       "\n",
       "    .dataframe tbody tr th {\n",
       "        vertical-align: top;\n",
       "    }\n",
       "\n",
       "    .dataframe thead th {\n",
       "        text-align: right;\n",
       "    }\n",
       "</style>\n",
       "<table border=\"1\" class=\"dataframe\">\n",
       "  <thead>\n",
       "    <tr style=\"text-align: right;\">\n",
       "      <th></th>\n",
       "      <th>index</th>\n",
       "      <th>period</th>\n",
       "      <th>org_code</th>\n",
       "      <th>attendances</th>\n",
       "      <th>breaches</th>\n",
       "      <th>admissions</th>\n",
       "      <th>breach_performance</th>\n",
       "      <th>admission_rate</th>\n",
       "      <th>consent</th>\n",
       "    </tr>\n",
       "  </thead>\n",
       "  <tbody>\n",
       "    <tr>\n",
       "      <th>0</th>\n",
       "      <td>12530</td>\n",
       "      <td>2018-04-01</td>\n",
       "      <td>RKB</td>\n",
       "      <td>12519</td>\n",
       "      <td>1937</td>\n",
       "      <td>4407</td>\n",
       "      <td>0.352025</td>\n",
       "      <td>0.352025</td>\n",
       "      <td>True</td>\n",
       "    </tr>\n",
       "  </tbody>\n",
       "</table>\n",
       "</div>"
      ],
      "text/plain": [
       "   index      period org_code  attendances  breaches  admissions  \\\n",
       "0  12530  2018-04-01      RKB        12519      1937        4407   \n",
       "\n",
       "   breach_performance  admission_rate  consent  \n",
       "0            0.352025        0.352025     True  "
      ]
     },
     "execution_count": 374,
     "metadata": {},
     "output_type": "execute_result"
    }
   ],
   "source": [
    "dfTofill.iloc[0,1]=b.value\n",
    "dfTofill"
   ]
  },
  {
   "cell_type": "markdown",
   "id": "static-fitness",
   "metadata": {},
   "source": [
    "## The org_code variable\n",
    "The org_code variable includes the Organisation data service (ODS) code for the organisation. The ODS code is a unique code created by the Organisation data service within [NHS Digital](_https://www.digitalsocialcare.co.uk/latest-guidance/how-to-find-your-ods-code/), and used to identify organisations across health and social care. ODS codes are required in order to gain access to national systems like NHSmail and the Data Security and Protection Toolkit. If you want to know the organisation associated with a particular ODS code, you can look it up from the following address: <https://odsportal.digital.nhs.uk/Organisation/Search>. For example, the organisation associated with the ODS code 'AF003' is\n",
    "[Parkway health centre](https://odsportal.digital.nhs.uk/Organisation/OrganisationDetails?organisationId=132839&showOpenChildredOnly=True).      "
   ]
  },
  {
   "cell_type": "markdown",
   "id": "infectious-mistake",
   "metadata": {},
   "source": [
    "#### Data type\n",
    "We now need to check the data type in the testData data frame. Let us use the `dtypes` function from the Python *pandas* package to query the data types in the testData. The `dtypes` function returns the data types in the data frame."
   ]
  },
  {
   "cell_type": "code",
   "execution_count": 18,
   "id": "aware-genetics",
   "metadata": {},
   "outputs": [
    {
     "name": "stdout",
     "output_type": "stream",
     "text": [
      "object\n"
     ]
    }
   ],
   "source": [
    "print(result[2])\n",
    "#String data type"
   ]
  },
  {
   "cell_type": "markdown",
   "id": "thick-sheriff",
   "metadata": {},
   "source": [
    "The data type object is a string.\n",
    "\n",
    "#### Describe the test data\n",
    "Here we are going to use the `describe()` function from the *numpy* Python package to calculate summary statistics for the testData data frame. The numpy package is the core package for scientific computing in Python. The `describe()` function from the *numpy* package computes the descriptive statistics."
   ]
  },
  {
   "cell_type": "code",
   "execution_count": 156,
   "id": "unexpected-devices",
   "metadata": {
    "tags": [
     "hide-input"
    ]
   },
   "outputs": [
    {
     "data": {
      "text/html": [
       "<div>\n",
       "<style scoped>\n",
       "    .dataframe tbody tr th:only-of-type {\n",
       "        vertical-align: middle;\n",
       "    }\n",
       "\n",
       "    .dataframe tbody tr th {\n",
       "        vertical-align: top;\n",
       "    }\n",
       "\n",
       "    .dataframe thead th {\n",
       "        text-align: right;\n",
       "    }\n",
       "</style>\n",
       "<table border=\"1\" class=\"dataframe\">\n",
       "  <thead>\n",
       "    <tr style=\"text-align: right;\">\n",
       "      <th></th>\n",
       "      <th>index</th>\n",
       "      <th>period</th>\n",
       "      <th>org_code</th>\n",
       "      <th>attendances</th>\n",
       "      <th>breaches</th>\n",
       "      <th>admissions</th>\n",
       "    </tr>\n",
       "  </thead>\n",
       "  <tbody>\n",
       "    <tr>\n",
       "      <th>count</th>\n",
       "      <td>11.000000</td>\n",
       "      <td>11</td>\n",
       "      <td>11</td>\n",
       "      <td>11.000000</td>\n",
       "      <td>11.000000</td>\n",
       "      <td>11.000000</td>\n",
       "    </tr>\n",
       "    <tr>\n",
       "      <th>unique</th>\n",
       "      <td>NaN</td>\n",
       "      <td>9</td>\n",
       "      <td>8</td>\n",
       "      <td>NaN</td>\n",
       "      <td>NaN</td>\n",
       "      <td>NaN</td>\n",
       "    </tr>\n",
       "    <tr>\n",
       "      <th>top</th>\n",
       "      <td>NaN</td>\n",
       "      <td>2016-07-01</td>\n",
       "      <td>RXK</td>\n",
       "      <td>NaN</td>\n",
       "      <td>NaN</td>\n",
       "      <td>NaN</td>\n",
       "    </tr>\n",
       "    <tr>\n",
       "      <th>freq</th>\n",
       "      <td>NaN</td>\n",
       "      <td>2</td>\n",
       "      <td>3</td>\n",
       "      <td>NaN</td>\n",
       "      <td>NaN</td>\n",
       "      <td>NaN</td>\n",
       "    </tr>\n",
       "    <tr>\n",
       "      <th>mean</th>\n",
       "      <td>6628.181818</td>\n",
       "      <td>NaN</td>\n",
       "      <td>NaN</td>\n",
       "      <td>10407.363636</td>\n",
       "      <td>2146.090909</td>\n",
       "      <td>2991.727273</td>\n",
       "    </tr>\n",
       "    <tr>\n",
       "      <th>std</th>\n",
       "      <td>3160.349089</td>\n",
       "      <td>NaN</td>\n",
       "      <td>NaN</td>\n",
       "      <td>3183.123286</td>\n",
       "      <td>1218.150356</td>\n",
       "      <td>911.047868</td>\n",
       "    </tr>\n",
       "    <tr>\n",
       "      <th>min</th>\n",
       "      <td>2881.000000</td>\n",
       "      <td>NaN</td>\n",
       "      <td>NaN</td>\n",
       "      <td>4532.000000</td>\n",
       "      <td>297.000000</td>\n",
       "      <td>1437.000000</td>\n",
       "    </tr>\n",
       "    <tr>\n",
       "      <th>25%</th>\n",
       "      <td>4269.500000</td>\n",
       "      <td>NaN</td>\n",
       "      <td>NaN</td>\n",
       "      <td>9382.000000</td>\n",
       "      <td>1483.500000</td>\n",
       "      <td>2571.500000</td>\n",
       "    </tr>\n",
       "    <tr>\n",
       "      <th>50%</th>\n",
       "      <td>6471.000000</td>\n",
       "      <td>NaN</td>\n",
       "      <td>NaN</td>\n",
       "      <td>10313.000000</td>\n",
       "      <td>2128.000000</td>\n",
       "      <td>3141.000000</td>\n",
       "    </tr>\n",
       "    <tr>\n",
       "      <th>75%</th>\n",
       "      <td>8543.000000</td>\n",
       "      <td>NaN</td>\n",
       "      <td>NaN</td>\n",
       "      <td>13061.500000</td>\n",
       "      <td>2770.000000</td>\n",
       "      <td>3586.500000</td>\n",
       "    </tr>\n",
       "    <tr>\n",
       "      <th>max</th>\n",
       "      <td>12530.000000</td>\n",
       "      <td>NaN</td>\n",
       "      <td>NaN</td>\n",
       "      <td>14488.000000</td>\n",
       "      <td>4432.000000</td>\n",
       "      <td>4407.000000</td>\n",
       "    </tr>\n",
       "  </tbody>\n",
       "</table>\n",
       "</div>"
      ],
      "text/plain": [
       "               index      period org_code   attendances     breaches  \\\n",
       "count      11.000000          11       11     11.000000    11.000000   \n",
       "unique           NaN           9        8           NaN          NaN   \n",
       "top              NaN  2016-07-01      RXK           NaN          NaN   \n",
       "freq             NaN           2        3           NaN          NaN   \n",
       "mean     6628.181818         NaN      NaN  10407.363636  2146.090909   \n",
       "std      3160.349089         NaN      NaN   3183.123286  1218.150356   \n",
       "min      2881.000000         NaN      NaN   4532.000000   297.000000   \n",
       "25%      4269.500000         NaN      NaN   9382.000000  1483.500000   \n",
       "50%      6471.000000         NaN      NaN  10313.000000  2128.000000   \n",
       "75%      8543.000000         NaN      NaN  13061.500000  2770.000000   \n",
       "max     12530.000000         NaN      NaN  14488.000000  4432.000000   \n",
       "\n",
       "         admissions  \n",
       "count     11.000000  \n",
       "unique          NaN  \n",
       "top             NaN  \n",
       "freq            NaN  \n",
       "mean    2991.727273  \n",
       "std      911.047868  \n",
       "min     1437.000000  \n",
       "25%     2571.500000  \n",
       "50%     3141.000000  \n",
       "75%     3586.500000  \n",
       "max     4407.000000  "
      ]
     },
     "execution_count": 156,
     "metadata": {},
     "output_type": "execute_result"
    }
   ],
   "source": [
    "#Load the 'numpy' package\n",
    "import numpy as np\n",
    "testData.describe(include='all')"
   ]
  },
  {
   "cell_type": "markdown",
   "id": "grave-consciousness",
   "metadata": {},
   "source": [
    "#### Applying *pandas* `unique()` function\n",
    "We must first use the *pandas* package `unique()` function to get the unique Organisation data service (ODS) codes in the test data."
   ]
  },
  {
   "cell_type": "code",
   "execution_count": 157,
   "id": "lightweight-sweden",
   "metadata": {},
   "outputs": [
    {
     "data": {
      "text/plain": [
       "['RXK', 'RNA', 'RRK', 'RLQ', 'RWP', 'RJC', 'RKB', 'RL4']"
      ]
     },
     "execution_count": 157,
     "metadata": {},
     "output_type": "execute_result"
    }
   ],
   "source": [
    "org_code=list(testData['org_code'].unique())\n",
    "org_code"
   ]
  },
  {
   "cell_type": "markdown",
   "id": "actual-eclipse",
   "metadata": {},
   "source": [
    "##### The `head()` function\n",
    "The `head()` function lets you look at the top n rows of a data frame. By default, it shows the first five rows in a data frame. We can specify the number of rows we want to see in a data frame with the argument “n”. For example, look at the first row (n=1) of the test data:"
   ]
  },
  {
   "cell_type": "code",
   "execution_count": 375,
   "id": "corrected-cover",
   "metadata": {},
   "outputs": [
    {
     "data": {
      "text/html": [
       "<div>\n",
       "<style scoped>\n",
       "    .dataframe tbody tr th:only-of-type {\n",
       "        vertical-align: middle;\n",
       "    }\n",
       "\n",
       "    .dataframe tbody tr th {\n",
       "        vertical-align: top;\n",
       "    }\n",
       "\n",
       "    .dataframe thead th {\n",
       "        text-align: right;\n",
       "    }\n",
       "</style>\n",
       "<table border=\"1\" class=\"dataframe\">\n",
       "  <thead>\n",
       "    <tr style=\"text-align: right;\">\n",
       "      <th></th>\n",
       "      <th>index</th>\n",
       "      <th>period</th>\n",
       "      <th>org_code</th>\n",
       "      <th>attendances</th>\n",
       "      <th>breaches</th>\n",
       "      <th>admissions</th>\n",
       "    </tr>\n",
       "  </thead>\n",
       "  <tbody>\n",
       "    <tr>\n",
       "      <th>0</th>\n",
       "      <td>2881</td>\n",
       "      <td>2016-07-01</td>\n",
       "      <td>RXK</td>\n",
       "      <td>14488</td>\n",
       "      <td>2128</td>\n",
       "      <td>3141</td>\n",
       "    </tr>\n",
       "    <tr>\n",
       "      <th>1</th>\n",
       "      <td>2896</td>\n",
       "      <td>2016-07-01</td>\n",
       "      <td>RNA</td>\n",
       "      <td>8947</td>\n",
       "      <td>596</td>\n",
       "      <td>2599</td>\n",
       "    </tr>\n",
       "    <tr>\n",
       "      <th>2</th>\n",
       "      <td>4258</td>\n",
       "      <td>2018-03-01</td>\n",
       "      <td>RXK</td>\n",
       "      <td>13805</td>\n",
       "      <td>3556</td>\n",
       "      <td>3429</td>\n",
       "    </tr>\n",
       "    <tr>\n",
       "      <th>3</th>\n",
       "      <td>4281</td>\n",
       "      <td>2018-03-01</td>\n",
       "      <td>RRK</td>\n",
       "      <td>9936</td>\n",
       "      <td>2154</td>\n",
       "      <td>3896</td>\n",
       "    </tr>\n",
       "    <tr>\n",
       "      <th>4</th>\n",
       "      <td>5043</td>\n",
       "      <td>2018-01-01</td>\n",
       "      <td>RLQ</td>\n",
       "      <td>4532</td>\n",
       "      <td>1263</td>\n",
       "      <td>1437</td>\n",
       "    </tr>\n",
       "    <tr>\n",
       "      <th>5</th>\n",
       "      <td>6471</td>\n",
       "      <td>2017-09-01</td>\n",
       "      <td>RWP</td>\n",
       "      <td>9817</td>\n",
       "      <td>2716</td>\n",
       "      <td>2921</td>\n",
       "    </tr>\n",
       "    <tr>\n",
       "      <th>6</th>\n",
       "      <td>7137</td>\n",
       "      <td>2017-07-01</td>\n",
       "      <td>RJC</td>\n",
       "      <td>5811</td>\n",
       "      <td>297</td>\n",
       "      <td>1617</td>\n",
       "    </tr>\n",
       "    <tr>\n",
       "      <th>7</th>\n",
       "      <td>7509</td>\n",
       "      <td>2017-06-01</td>\n",
       "      <td>RWP</td>\n",
       "      <td>10313</td>\n",
       "      <td>2824</td>\n",
       "      <td>3174</td>\n",
       "    </tr>\n",
       "    <tr>\n",
       "      <th>8</th>\n",
       "      <td>9577</td>\n",
       "      <td>2018-12-01</td>\n",
       "      <td>RXK</td>\n",
       "      <td>13604</td>\n",
       "      <td>4432</td>\n",
       "      <td>3744</td>\n",
       "    </tr>\n",
       "    <tr>\n",
       "      <th>9</th>\n",
       "      <td>10327</td>\n",
       "      <td>2018-10-01</td>\n",
       "      <td>RKB</td>\n",
       "      <td>12519</td>\n",
       "      <td>1937</td>\n",
       "      <td>4407</td>\n",
       "    </tr>\n",
       "    <tr>\n",
       "      <th>10</th>\n",
       "      <td>12530</td>\n",
       "      <td>2018-04-01</td>\n",
       "      <td>RL4</td>\n",
       "      <td>10709</td>\n",
       "      <td>1704</td>\n",
       "      <td>2544</td>\n",
       "    </tr>\n",
       "  </tbody>\n",
       "</table>\n",
       "</div>"
      ],
      "text/plain": [
       "    index      period org_code  attendances  breaches  admissions\n",
       "0    2881  2016-07-01      RXK        14488      2128        3141\n",
       "1    2896  2016-07-01      RNA         8947       596        2599\n",
       "2    4258  2018-03-01      RXK        13805      3556        3429\n",
       "3    4281  2018-03-01      RRK         9936      2154        3896\n",
       "4    5043  2018-01-01      RLQ         4532      1263        1437\n",
       "5    6471  2017-09-01      RWP         9817      2716        2921\n",
       "6    7137  2017-07-01      RJC         5811       297        1617\n",
       "7    7509  2017-06-01      RWP        10313      2824        3174\n",
       "8    9577  2018-12-01      RXK        13604      4432        3744\n",
       "9   10327  2018-10-01      RKB        12519      1937        4407\n",
       "10  12530  2018-04-01      RL4        10709      1704        2544"
      ]
     },
     "execution_count": 375,
     "metadata": {},
     "output_type": "execute_result"
    }
   ],
   "source": [
    "testData.head(n=11)"
   ]
  },
  {
   "cell_type": "markdown",
   "id": "amateur-princess",
   "metadata": {},
   "source": [
    "## Selection widgets\n",
    "Several widgets can be used to display single selection lists. You can specify the selectable options by passing a list.  "
   ]
  },
  {
   "cell_type": "code",
   "execution_count": 159,
   "id": "vocational-thursday",
   "metadata": {},
   "outputs": [
    {
     "data": {
      "application/vnd.jupyter.widget-view+json": {
       "model_id": "a2c8191cd4584a79aabacc4b46f95011",
       "version_major": 2,
       "version_minor": 0
      },
      "text/plain": [
       "Select(description='ODS code:', options=('RXK', 'RNA', 'RRK', 'RLQ', 'RWP', 'RJC', 'RKB', 'RL4'), rows=8, valu…"
      ]
     },
     "metadata": {},
     "output_type": "display_data"
    }
   ],
   "source": [
    "c=widgets.Select(\n",
    "    options=org_code,\n",
    "    value='RXK',\n",
    "    rows=len(org_code),\n",
    "    description='ODS code:',\n",
    "    disabled=False\n",
    ")\n",
    "display(c)"
   ]
  },
  {
   "cell_type": "code",
   "execution_count": 376,
   "id": "public-absence",
   "metadata": {},
   "outputs": [
    {
     "data": {
      "text/html": [
       "<div>\n",
       "<style scoped>\n",
       "    .dataframe tbody tr th:only-of-type {\n",
       "        vertical-align: middle;\n",
       "    }\n",
       "\n",
       "    .dataframe tbody tr th {\n",
       "        vertical-align: top;\n",
       "    }\n",
       "\n",
       "    .dataframe thead th {\n",
       "        text-align: right;\n",
       "    }\n",
       "</style>\n",
       "<table border=\"1\" class=\"dataframe\">\n",
       "  <thead>\n",
       "    <tr style=\"text-align: right;\">\n",
       "      <th></th>\n",
       "      <th>index</th>\n",
       "      <th>period</th>\n",
       "      <th>org_code</th>\n",
       "      <th>attendances</th>\n",
       "      <th>breaches</th>\n",
       "      <th>admissions</th>\n",
       "      <th>breach_performance</th>\n",
       "      <th>admission_rate</th>\n",
       "      <th>consent</th>\n",
       "    </tr>\n",
       "  </thead>\n",
       "  <tbody>\n",
       "    <tr>\n",
       "      <th>0</th>\n",
       "      <td>12530</td>\n",
       "      <td>2018-04-01</td>\n",
       "      <td>RL4</td>\n",
       "      <td>12519</td>\n",
       "      <td>1937</td>\n",
       "      <td>4407</td>\n",
       "      <td>0.352025</td>\n",
       "      <td>0.352025</td>\n",
       "      <td>True</td>\n",
       "    </tr>\n",
       "  </tbody>\n",
       "</table>\n",
       "</div>"
      ],
      "text/plain": [
       "   index      period org_code  attendances  breaches  admissions  \\\n",
       "0  12530  2018-04-01      RL4        12519      1937        4407   \n",
       "\n",
       "   breach_performance  admission_rate  consent  \n",
       "0            0.352025        0.352025     True  "
      ]
     },
     "execution_count": 376,
     "metadata": {},
     "output_type": "execute_result"
    }
   ],
   "source": [
    "dfTofill.iloc[0,2]=c.value\n",
    "dfTofill"
   ]
  },
  {
   "cell_type": "markdown",
   "id": "desirable-convenience",
   "metadata": {},
   "source": [
    "## The type variable\n",
    "The type variable contains the department type for this activity, either  \n",
    "* **1:** Emergency departments are a consultant-led 24-hour service with full resuscitation facilities and designated accommodation for the reception of accident and emergency patients,  \n",
    "* **2:** Consultant-led mono speciality accident and emergency service (e.g. ophthalmology, dental) with designated accommodation for the reception of patients, or  \n",
    "* **other:** Other type of A&E/minor injury activity with designated accommodation for the reception of accident and emergency patients. The department may be doctor-led or nurse-led and treats at least minor injuries and illnesses and can be routinely accessed without an appointment. A service mainly or entirely appointment-based (for example, a GP Practice or Outpatient clinic) is excluded even though it may treat a number of patients with minor illnesses or injury. Excludes NHS walk-in centres.[(National Health Service, 2020)](https://eu01.alma.exlibrisgroup.com/leganto/public/44UOE_INST/citation/37459630310002466?auth=SAML)"
   ]
  },
  {
   "cell_type": "markdown",
   "id": "bright-newman",
   "metadata": {},
   "source": [
    "#### Data type\n",
    "We now need to check the data type in the testData data frame. Let us use the `dtypes` function from the Python *pandas* package to query the data types in the testData. The `dtypes` function returns the data types in the data frame."
   ]
  },
  {
   "cell_type": "code",
   "execution_count": 82,
   "id": "south-worse",
   "metadata": {},
   "outputs": [],
   "source": [
    "#print(result[3])\n",
    "#String data type"
   ]
  },
  {
   "cell_type": "markdown",
   "id": "beneficial-optimization",
   "metadata": {},
   "source": [
    "The data type object is a string."
   ]
  },
  {
   "cell_type": "markdown",
   "id": "pharmaceutical-session",
   "metadata": {},
   "source": [
    "#### Applying *pandas* `unique()` function\n",
    "We must first use the *pandas* package `unique()` function to get the unique department type in the test data."
   ]
  },
  {
   "cell_type": "code",
   "execution_count": 83,
   "id": "fantastic-despite",
   "metadata": {},
   "outputs": [],
   "source": [
    "#type=list(testData['type'].unique())\n",
    "#type"
   ]
  },
  {
   "cell_type": "markdown",
   "id": "micro-school",
   "metadata": {},
   "source": [
    "##### The `head()` function\n",
    "The `head()` function lets you look at the top n rows of a data frame. By default, it shows the first five rows in a data frame. We can specify the number of rows we want to see in a data frame with the argument “n”. For example, look at the first row (n=1) of the test data:"
   ]
  },
  {
   "cell_type": "code",
   "execution_count": 84,
   "id": "physical-corner",
   "metadata": {},
   "outputs": [],
   "source": [
    "#testData.head(n=1)"
   ]
  },
  {
   "cell_type": "markdown",
   "id": "legendary-reading",
   "metadata": {},
   "source": [
    "### RadioButtons"
   ]
  },
  {
   "cell_type": "code",
   "execution_count": 85,
   "id": "virgin-commonwealth",
   "metadata": {},
   "outputs": [],
   "source": [
    "#d=widgets.RadioButtons(\n",
    "#    options=type,\n",
    "#     value='other',\n",
    "#    description='Type:',\n",
    "#    disabled=False\n",
    "#)\n",
    "#display(d)"
   ]
  },
  {
   "cell_type": "code",
   "execution_count": 86,
   "id": "eleven-penetration",
   "metadata": {},
   "outputs": [],
   "source": [
    "#dfTofill.iloc[0,3]=d.value\n",
    "#dfTofill"
   ]
  },
  {
   "cell_type": "markdown",
   "id": "auburn-correspondence",
   "metadata": {},
   "source": [
    "# The attendances variable\n",
    "The attendances variable includes the number of attendances for this department type at this organisation for this month."
   ]
  },
  {
   "cell_type": "markdown",
   "id": "ideal-wisdom",
   "metadata": {},
   "source": [
    "#### Data type\n",
    "We now need to check the data type in the testData data frame. Let us use the `dtypes` function from the Python *pandas* package to query the data types in the testData. The `dtypes` function returns the data types in the data frame."
   ]
  },
  {
   "cell_type": "code",
   "execution_count": 87,
   "id": "conditional-channels",
   "metadata": {},
   "outputs": [
    {
     "name": "stdout",
     "output_type": "stream",
     "text": [
      "int64\n"
     ]
    }
   ],
   "source": [
    "print(result[3])"
   ]
  },
  {
   "cell_type": "markdown",
   "id": "flexible-generator",
   "metadata": {},
   "source": [
    "##### The `head()` function\n",
    "The `head()` function lets you look at the top n rows of a data frame. By default, it shows the first five rows in a data frame. We can specify the number of rows we want to see in a data frame with the argument “n”. For example, look at the first row (n=1) of the test data:"
   ]
  },
  {
   "cell_type": "code",
   "execution_count": 377,
   "id": "atlantic-female",
   "metadata": {},
   "outputs": [
    {
     "data": {
      "text/html": [
       "<div>\n",
       "<style scoped>\n",
       "    .dataframe tbody tr th:only-of-type {\n",
       "        vertical-align: middle;\n",
       "    }\n",
       "\n",
       "    .dataframe tbody tr th {\n",
       "        vertical-align: top;\n",
       "    }\n",
       "\n",
       "    .dataframe thead th {\n",
       "        text-align: right;\n",
       "    }\n",
       "</style>\n",
       "<table border=\"1\" class=\"dataframe\">\n",
       "  <thead>\n",
       "    <tr style=\"text-align: right;\">\n",
       "      <th></th>\n",
       "      <th>index</th>\n",
       "      <th>period</th>\n",
       "      <th>org_code</th>\n",
       "      <th>attendances</th>\n",
       "      <th>breaches</th>\n",
       "      <th>admissions</th>\n",
       "    </tr>\n",
       "  </thead>\n",
       "  <tbody>\n",
       "    <tr>\n",
       "      <th>0</th>\n",
       "      <td>2881</td>\n",
       "      <td>2016-07-01</td>\n",
       "      <td>RXK</td>\n",
       "      <td>14488</td>\n",
       "      <td>2128</td>\n",
       "      <td>3141</td>\n",
       "    </tr>\n",
       "    <tr>\n",
       "      <th>1</th>\n",
       "      <td>2896</td>\n",
       "      <td>2016-07-01</td>\n",
       "      <td>RNA</td>\n",
       "      <td>8947</td>\n",
       "      <td>596</td>\n",
       "      <td>2599</td>\n",
       "    </tr>\n",
       "    <tr>\n",
       "      <th>2</th>\n",
       "      <td>4258</td>\n",
       "      <td>2018-03-01</td>\n",
       "      <td>RXK</td>\n",
       "      <td>13805</td>\n",
       "      <td>3556</td>\n",
       "      <td>3429</td>\n",
       "    </tr>\n",
       "    <tr>\n",
       "      <th>3</th>\n",
       "      <td>4281</td>\n",
       "      <td>2018-03-01</td>\n",
       "      <td>RRK</td>\n",
       "      <td>9936</td>\n",
       "      <td>2154</td>\n",
       "      <td>3896</td>\n",
       "    </tr>\n",
       "    <tr>\n",
       "      <th>4</th>\n",
       "      <td>5043</td>\n",
       "      <td>2018-01-01</td>\n",
       "      <td>RLQ</td>\n",
       "      <td>4532</td>\n",
       "      <td>1263</td>\n",
       "      <td>1437</td>\n",
       "    </tr>\n",
       "    <tr>\n",
       "      <th>5</th>\n",
       "      <td>6471</td>\n",
       "      <td>2017-09-01</td>\n",
       "      <td>RWP</td>\n",
       "      <td>9817</td>\n",
       "      <td>2716</td>\n",
       "      <td>2921</td>\n",
       "    </tr>\n",
       "    <tr>\n",
       "      <th>6</th>\n",
       "      <td>7137</td>\n",
       "      <td>2017-07-01</td>\n",
       "      <td>RJC</td>\n",
       "      <td>5811</td>\n",
       "      <td>297</td>\n",
       "      <td>1617</td>\n",
       "    </tr>\n",
       "    <tr>\n",
       "      <th>7</th>\n",
       "      <td>7509</td>\n",
       "      <td>2017-06-01</td>\n",
       "      <td>RWP</td>\n",
       "      <td>10313</td>\n",
       "      <td>2824</td>\n",
       "      <td>3174</td>\n",
       "    </tr>\n",
       "    <tr>\n",
       "      <th>8</th>\n",
       "      <td>9577</td>\n",
       "      <td>2018-12-01</td>\n",
       "      <td>RXK</td>\n",
       "      <td>13604</td>\n",
       "      <td>4432</td>\n",
       "      <td>3744</td>\n",
       "    </tr>\n",
       "    <tr>\n",
       "      <th>9</th>\n",
       "      <td>10327</td>\n",
       "      <td>2018-10-01</td>\n",
       "      <td>RKB</td>\n",
       "      <td>12519</td>\n",
       "      <td>1937</td>\n",
       "      <td>4407</td>\n",
       "    </tr>\n",
       "    <tr>\n",
       "      <th>10</th>\n",
       "      <td>12530</td>\n",
       "      <td>2018-04-01</td>\n",
       "      <td>RL4</td>\n",
       "      <td>10709</td>\n",
       "      <td>1704</td>\n",
       "      <td>2544</td>\n",
       "    </tr>\n",
       "  </tbody>\n",
       "</table>\n",
       "</div>"
      ],
      "text/plain": [
       "    index      period org_code  attendances  breaches  admissions\n",
       "0    2881  2016-07-01      RXK        14488      2128        3141\n",
       "1    2896  2016-07-01      RNA         8947       596        2599\n",
       "2    4258  2018-03-01      RXK        13805      3556        3429\n",
       "3    4281  2018-03-01      RRK         9936      2154        3896\n",
       "4    5043  2018-01-01      RLQ         4532      1263        1437\n",
       "5    6471  2017-09-01      RWP         9817      2716        2921\n",
       "6    7137  2017-07-01      RJC         5811       297        1617\n",
       "7    7509  2017-06-01      RWP        10313      2824        3174\n",
       "8    9577  2018-12-01      RXK        13604      4432        3744\n",
       "9   10327  2018-10-01      RKB        12519      1937        4407\n",
       "10  12530  2018-04-01      RL4        10709      1704        2544"
      ]
     },
     "execution_count": 377,
     "metadata": {},
     "output_type": "execute_result"
    }
   ],
   "source": [
    "testData.head(n=11)"
   ]
  },
  {
   "cell_type": "markdown",
   "id": "civil-excess",
   "metadata": {},
   "source": [
    "## Numeric widgets\n",
    "There are many widgets distributed with ipywidgets that are designed to display numeric values. Widgets exist for displaying integers and floats, both bounded and unbounded. The integer widgets share a similar naming scheme to their floating point counterparts. By replacing Float with Int in the widget name, you can find the Integer equivalent.\n",
    "\n",
    "### IntText"
   ]
  },
  {
   "cell_type": "code",
   "execution_count": 26,
   "id": "coupled-optimum",
   "metadata": {},
   "outputs": [
    {
     "data": {
      "application/vnd.jupyter.widget-view+json": {
       "model_id": "636f575b40164534bd05f861b8acb4fd",
       "version_major": 2,
       "version_minor": 0
      },
      "text/plain": [
       "IntText(value=0, description='Attendances:')"
      ]
     },
     "metadata": {},
     "output_type": "display_data"
    }
   ],
   "source": [
    "e=widgets.IntText(\n",
    "    value=0,\n",
    "    description='Attendances:',\n",
    "    disabled=False)\n",
    "display(e)"
   ]
  },
  {
   "cell_type": "code",
   "execution_count": 378,
   "id": "metallic-token",
   "metadata": {},
   "outputs": [
    {
     "data": {
      "text/html": [
       "<div>\n",
       "<style scoped>\n",
       "    .dataframe tbody tr th:only-of-type {\n",
       "        vertical-align: middle;\n",
       "    }\n",
       "\n",
       "    .dataframe tbody tr th {\n",
       "        vertical-align: top;\n",
       "    }\n",
       "\n",
       "    .dataframe thead th {\n",
       "        text-align: right;\n",
       "    }\n",
       "</style>\n",
       "<table border=\"1\" class=\"dataframe\">\n",
       "  <thead>\n",
       "    <tr style=\"text-align: right;\">\n",
       "      <th></th>\n",
       "      <th>index</th>\n",
       "      <th>period</th>\n",
       "      <th>org_code</th>\n",
       "      <th>attendances</th>\n",
       "      <th>breaches</th>\n",
       "      <th>admissions</th>\n",
       "      <th>breach_performance</th>\n",
       "      <th>admission_rate</th>\n",
       "      <th>consent</th>\n",
       "    </tr>\n",
       "  </thead>\n",
       "  <tbody>\n",
       "    <tr>\n",
       "      <th>0</th>\n",
       "      <td>12530</td>\n",
       "      <td>2018-04-01</td>\n",
       "      <td>RL4</td>\n",
       "      <td>10709</td>\n",
       "      <td>1937</td>\n",
       "      <td>4407</td>\n",
       "      <td>0.352025</td>\n",
       "      <td>0.352025</td>\n",
       "      <td>True</td>\n",
       "    </tr>\n",
       "  </tbody>\n",
       "</table>\n",
       "</div>"
      ],
      "text/plain": [
       "   index      period org_code  attendances  breaches  admissions  \\\n",
       "0  12530  2018-04-01      RL4        10709      1937        4407   \n",
       "\n",
       "   breach_performance  admission_rate  consent  \n",
       "0            0.352025        0.352025     True  "
      ]
     },
     "execution_count": 378,
     "metadata": {},
     "output_type": "execute_result"
    }
   ],
   "source": [
    "dfTofill.iloc[0,3]=e.value\n",
    "dfTofill"
   ]
  },
  {
   "cell_type": "markdown",
   "id": "radio-cross",
   "metadata": {},
   "source": [
    "# The breaches variable\n",
    "The breaches variable includes the number of attendances that breached the four hour target.   "
   ]
  },
  {
   "cell_type": "markdown",
   "id": "helpful-stephen",
   "metadata": {},
   "source": [
    "#### Data type\n",
    "We now need to check the data type in the testData data frame. Let us use the `dtypes` function from the Python *pandas* package to query the data types in the testData. The `dtypes` function returns the data types in the data frame."
   ]
  },
  {
   "cell_type": "code",
   "execution_count": 28,
   "id": "original-obligation",
   "metadata": {},
   "outputs": [
    {
     "name": "stdout",
     "output_type": "stream",
     "text": [
      "int64\n"
     ]
    }
   ],
   "source": [
    "print(result[4])"
   ]
  },
  {
   "cell_type": "code",
   "execution_count": 379,
   "id": "automotive-rebecca",
   "metadata": {},
   "outputs": [
    {
     "data": {
      "text/html": [
       "<div>\n",
       "<style scoped>\n",
       "    .dataframe tbody tr th:only-of-type {\n",
       "        vertical-align: middle;\n",
       "    }\n",
       "\n",
       "    .dataframe tbody tr th {\n",
       "        vertical-align: top;\n",
       "    }\n",
       "\n",
       "    .dataframe thead th {\n",
       "        text-align: right;\n",
       "    }\n",
       "</style>\n",
       "<table border=\"1\" class=\"dataframe\">\n",
       "  <thead>\n",
       "    <tr style=\"text-align: right;\">\n",
       "      <th></th>\n",
       "      <th>index</th>\n",
       "      <th>period</th>\n",
       "      <th>org_code</th>\n",
       "      <th>attendances</th>\n",
       "      <th>breaches</th>\n",
       "      <th>admissions</th>\n",
       "    </tr>\n",
       "  </thead>\n",
       "  <tbody>\n",
       "    <tr>\n",
       "      <th>0</th>\n",
       "      <td>2881</td>\n",
       "      <td>2016-07-01</td>\n",
       "      <td>RXK</td>\n",
       "      <td>14488</td>\n",
       "      <td>2128</td>\n",
       "      <td>3141</td>\n",
       "    </tr>\n",
       "    <tr>\n",
       "      <th>1</th>\n",
       "      <td>2896</td>\n",
       "      <td>2016-07-01</td>\n",
       "      <td>RNA</td>\n",
       "      <td>8947</td>\n",
       "      <td>596</td>\n",
       "      <td>2599</td>\n",
       "    </tr>\n",
       "    <tr>\n",
       "      <th>2</th>\n",
       "      <td>4258</td>\n",
       "      <td>2018-03-01</td>\n",
       "      <td>RXK</td>\n",
       "      <td>13805</td>\n",
       "      <td>3556</td>\n",
       "      <td>3429</td>\n",
       "    </tr>\n",
       "    <tr>\n",
       "      <th>3</th>\n",
       "      <td>4281</td>\n",
       "      <td>2018-03-01</td>\n",
       "      <td>RRK</td>\n",
       "      <td>9936</td>\n",
       "      <td>2154</td>\n",
       "      <td>3896</td>\n",
       "    </tr>\n",
       "    <tr>\n",
       "      <th>4</th>\n",
       "      <td>5043</td>\n",
       "      <td>2018-01-01</td>\n",
       "      <td>RLQ</td>\n",
       "      <td>4532</td>\n",
       "      <td>1263</td>\n",
       "      <td>1437</td>\n",
       "    </tr>\n",
       "    <tr>\n",
       "      <th>5</th>\n",
       "      <td>6471</td>\n",
       "      <td>2017-09-01</td>\n",
       "      <td>RWP</td>\n",
       "      <td>9817</td>\n",
       "      <td>2716</td>\n",
       "      <td>2921</td>\n",
       "    </tr>\n",
       "    <tr>\n",
       "      <th>6</th>\n",
       "      <td>7137</td>\n",
       "      <td>2017-07-01</td>\n",
       "      <td>RJC</td>\n",
       "      <td>5811</td>\n",
       "      <td>297</td>\n",
       "      <td>1617</td>\n",
       "    </tr>\n",
       "    <tr>\n",
       "      <th>7</th>\n",
       "      <td>7509</td>\n",
       "      <td>2017-06-01</td>\n",
       "      <td>RWP</td>\n",
       "      <td>10313</td>\n",
       "      <td>2824</td>\n",
       "      <td>3174</td>\n",
       "    </tr>\n",
       "    <tr>\n",
       "      <th>8</th>\n",
       "      <td>9577</td>\n",
       "      <td>2018-12-01</td>\n",
       "      <td>RXK</td>\n",
       "      <td>13604</td>\n",
       "      <td>4432</td>\n",
       "      <td>3744</td>\n",
       "    </tr>\n",
       "    <tr>\n",
       "      <th>9</th>\n",
       "      <td>10327</td>\n",
       "      <td>2018-10-01</td>\n",
       "      <td>RKB</td>\n",
       "      <td>12519</td>\n",
       "      <td>1937</td>\n",
       "      <td>4407</td>\n",
       "    </tr>\n",
       "    <tr>\n",
       "      <th>10</th>\n",
       "      <td>12530</td>\n",
       "      <td>2018-04-01</td>\n",
       "      <td>RL4</td>\n",
       "      <td>10709</td>\n",
       "      <td>1704</td>\n",
       "      <td>2544</td>\n",
       "    </tr>\n",
       "  </tbody>\n",
       "</table>\n",
       "</div>"
      ],
      "text/plain": [
       "    index      period org_code  attendances  breaches  admissions\n",
       "0    2881  2016-07-01      RXK        14488      2128        3141\n",
       "1    2896  2016-07-01      RNA         8947       596        2599\n",
       "2    4258  2018-03-01      RXK        13805      3556        3429\n",
       "3    4281  2018-03-01      RRK         9936      2154        3896\n",
       "4    5043  2018-01-01      RLQ         4532      1263        1437\n",
       "5    6471  2017-09-01      RWP         9817      2716        2921\n",
       "6    7137  2017-07-01      RJC         5811       297        1617\n",
       "7    7509  2017-06-01      RWP        10313      2824        3174\n",
       "8    9577  2018-12-01      RXK        13604      4432        3744\n",
       "9   10327  2018-10-01      RKB        12519      1937        4407\n",
       "10  12530  2018-04-01      RL4        10709      1704        2544"
      ]
     },
     "execution_count": 379,
     "metadata": {},
     "output_type": "execute_result"
    }
   ],
   "source": [
    "testData.head(11)"
   ]
  },
  {
   "cell_type": "markdown",
   "id": "particular-female",
   "metadata": {},
   "source": [
    "### IntText"
   ]
  },
  {
   "cell_type": "code",
   "execution_count": 30,
   "id": "irish-renewal",
   "metadata": {},
   "outputs": [
    {
     "data": {
      "application/vnd.jupyter.widget-view+json": {
       "model_id": "7edf822bee624964a0746664a3d64b40",
       "version_major": 2,
       "version_minor": 0
      },
      "text/plain": [
       "IntText(value=0, description='Breaches:')"
      ]
     },
     "metadata": {},
     "output_type": "display_data"
    }
   ],
   "source": [
    "f=widgets.IntText(\n",
    "    value=0,\n",
    "    description='Breaches:',\n",
    "    disabled=False)\n",
    "display(f)"
   ]
  },
  {
   "cell_type": "code",
   "execution_count": 380,
   "id": "filled-ballet",
   "metadata": {},
   "outputs": [
    {
     "data": {
      "text/html": [
       "<div>\n",
       "<style scoped>\n",
       "    .dataframe tbody tr th:only-of-type {\n",
       "        vertical-align: middle;\n",
       "    }\n",
       "\n",
       "    .dataframe tbody tr th {\n",
       "        vertical-align: top;\n",
       "    }\n",
       "\n",
       "    .dataframe thead th {\n",
       "        text-align: right;\n",
       "    }\n",
       "</style>\n",
       "<table border=\"1\" class=\"dataframe\">\n",
       "  <thead>\n",
       "    <tr style=\"text-align: right;\">\n",
       "      <th></th>\n",
       "      <th>index</th>\n",
       "      <th>period</th>\n",
       "      <th>org_code</th>\n",
       "      <th>attendances</th>\n",
       "      <th>breaches</th>\n",
       "      <th>admissions</th>\n",
       "      <th>breach_performance</th>\n",
       "      <th>admission_rate</th>\n",
       "      <th>consent</th>\n",
       "    </tr>\n",
       "  </thead>\n",
       "  <tbody>\n",
       "    <tr>\n",
       "      <th>0</th>\n",
       "      <td>12530</td>\n",
       "      <td>2018-04-01</td>\n",
       "      <td>RL4</td>\n",
       "      <td>10709</td>\n",
       "      <td>1704</td>\n",
       "      <td>4407</td>\n",
       "      <td>0.352025</td>\n",
       "      <td>0.352025</td>\n",
       "      <td>True</td>\n",
       "    </tr>\n",
       "  </tbody>\n",
       "</table>\n",
       "</div>"
      ],
      "text/plain": [
       "   index      period org_code  attendances  breaches  admissions  \\\n",
       "0  12530  2018-04-01      RL4        10709      1704        4407   \n",
       "\n",
       "   breach_performance  admission_rate  consent  \n",
       "0            0.352025        0.352025     True  "
      ]
     },
     "execution_count": 380,
     "metadata": {},
     "output_type": "execute_result"
    }
   ],
   "source": [
    "dfTofill.iloc[0,4]=f.value\n",
    "dfTofill"
   ]
  },
  {
   "cell_type": "markdown",
   "id": "headed-prior",
   "metadata": {},
   "source": [
    "#### The admissions variable\n",
    "The admissions variable includes the number of attendances that resulted in an admission to the hospital.[(Chris Mainey, 2021)](https://eu01.alma.exlibrisgroup.com/leganto/public/44UOE_INST/citation/37444097490002466?auth=SAML)"
   ]
  },
  {
   "cell_type": "markdown",
   "id": "opening-divide",
   "metadata": {},
   "source": [
    "#### Data type\n",
    "We now need to check the data type in the testData data frame. Let us use the `dtypes` function from the Python *pandas* package to query the data types in the testData. The `dtypes` function returns the data types in the data frame."
   ]
  },
  {
   "cell_type": "code",
   "execution_count": 32,
   "id": "polished-doubt",
   "metadata": {},
   "outputs": [
    {
     "name": "stdout",
     "output_type": "stream",
     "text": [
      "int64\n"
     ]
    }
   ],
   "source": [
    "print(result[5])"
   ]
  },
  {
   "cell_type": "markdown",
   "id": "affecting-evaluation",
   "metadata": {},
   "source": [
    "It is an integer variable.\n",
    "\n",
    "##### The `head()` function\n",
    "The `head()` function lets you look at the top n rows of a data frame. By default, it shows the first five rows in a data frame. We can specify the number of rows we want to see in a data frame with the argument “n”. For example, look at the first row (n=1) of the test data:"
   ]
  },
  {
   "cell_type": "code",
   "execution_count": 381,
   "id": "touched-lender",
   "metadata": {},
   "outputs": [
    {
     "data": {
      "text/html": [
       "<div>\n",
       "<style scoped>\n",
       "    .dataframe tbody tr th:only-of-type {\n",
       "        vertical-align: middle;\n",
       "    }\n",
       "\n",
       "    .dataframe tbody tr th {\n",
       "        vertical-align: top;\n",
       "    }\n",
       "\n",
       "    .dataframe thead th {\n",
       "        text-align: right;\n",
       "    }\n",
       "</style>\n",
       "<table border=\"1\" class=\"dataframe\">\n",
       "  <thead>\n",
       "    <tr style=\"text-align: right;\">\n",
       "      <th></th>\n",
       "      <th>index</th>\n",
       "      <th>period</th>\n",
       "      <th>org_code</th>\n",
       "      <th>attendances</th>\n",
       "      <th>breaches</th>\n",
       "      <th>admissions</th>\n",
       "    </tr>\n",
       "  </thead>\n",
       "  <tbody>\n",
       "    <tr>\n",
       "      <th>0</th>\n",
       "      <td>2881</td>\n",
       "      <td>2016-07-01</td>\n",
       "      <td>RXK</td>\n",
       "      <td>14488</td>\n",
       "      <td>2128</td>\n",
       "      <td>3141</td>\n",
       "    </tr>\n",
       "    <tr>\n",
       "      <th>1</th>\n",
       "      <td>2896</td>\n",
       "      <td>2016-07-01</td>\n",
       "      <td>RNA</td>\n",
       "      <td>8947</td>\n",
       "      <td>596</td>\n",
       "      <td>2599</td>\n",
       "    </tr>\n",
       "    <tr>\n",
       "      <th>2</th>\n",
       "      <td>4258</td>\n",
       "      <td>2018-03-01</td>\n",
       "      <td>RXK</td>\n",
       "      <td>13805</td>\n",
       "      <td>3556</td>\n",
       "      <td>3429</td>\n",
       "    </tr>\n",
       "    <tr>\n",
       "      <th>3</th>\n",
       "      <td>4281</td>\n",
       "      <td>2018-03-01</td>\n",
       "      <td>RRK</td>\n",
       "      <td>9936</td>\n",
       "      <td>2154</td>\n",
       "      <td>3896</td>\n",
       "    </tr>\n",
       "    <tr>\n",
       "      <th>4</th>\n",
       "      <td>5043</td>\n",
       "      <td>2018-01-01</td>\n",
       "      <td>RLQ</td>\n",
       "      <td>4532</td>\n",
       "      <td>1263</td>\n",
       "      <td>1437</td>\n",
       "    </tr>\n",
       "    <tr>\n",
       "      <th>5</th>\n",
       "      <td>6471</td>\n",
       "      <td>2017-09-01</td>\n",
       "      <td>RWP</td>\n",
       "      <td>9817</td>\n",
       "      <td>2716</td>\n",
       "      <td>2921</td>\n",
       "    </tr>\n",
       "    <tr>\n",
       "      <th>6</th>\n",
       "      <td>7137</td>\n",
       "      <td>2017-07-01</td>\n",
       "      <td>RJC</td>\n",
       "      <td>5811</td>\n",
       "      <td>297</td>\n",
       "      <td>1617</td>\n",
       "    </tr>\n",
       "    <tr>\n",
       "      <th>7</th>\n",
       "      <td>7509</td>\n",
       "      <td>2017-06-01</td>\n",
       "      <td>RWP</td>\n",
       "      <td>10313</td>\n",
       "      <td>2824</td>\n",
       "      <td>3174</td>\n",
       "    </tr>\n",
       "    <tr>\n",
       "      <th>8</th>\n",
       "      <td>9577</td>\n",
       "      <td>2018-12-01</td>\n",
       "      <td>RXK</td>\n",
       "      <td>13604</td>\n",
       "      <td>4432</td>\n",
       "      <td>3744</td>\n",
       "    </tr>\n",
       "    <tr>\n",
       "      <th>9</th>\n",
       "      <td>10327</td>\n",
       "      <td>2018-10-01</td>\n",
       "      <td>RKB</td>\n",
       "      <td>12519</td>\n",
       "      <td>1937</td>\n",
       "      <td>4407</td>\n",
       "    </tr>\n",
       "    <tr>\n",
       "      <th>10</th>\n",
       "      <td>12530</td>\n",
       "      <td>2018-04-01</td>\n",
       "      <td>RL4</td>\n",
       "      <td>10709</td>\n",
       "      <td>1704</td>\n",
       "      <td>2544</td>\n",
       "    </tr>\n",
       "  </tbody>\n",
       "</table>\n",
       "</div>"
      ],
      "text/plain": [
       "    index      period org_code  attendances  breaches  admissions\n",
       "0    2881  2016-07-01      RXK        14488      2128        3141\n",
       "1    2896  2016-07-01      RNA         8947       596        2599\n",
       "2    4258  2018-03-01      RXK        13805      3556        3429\n",
       "3    4281  2018-03-01      RRK         9936      2154        3896\n",
       "4    5043  2018-01-01      RLQ         4532      1263        1437\n",
       "5    6471  2017-09-01      RWP         9817      2716        2921\n",
       "6    7137  2017-07-01      RJC         5811       297        1617\n",
       "7    7509  2017-06-01      RWP        10313      2824        3174\n",
       "8    9577  2018-12-01      RXK        13604      4432        3744\n",
       "9   10327  2018-10-01      RKB        12519      1937        4407\n",
       "10  12530  2018-04-01      RL4        10709      1704        2544"
      ]
     },
     "execution_count": 381,
     "metadata": {},
     "output_type": "execute_result"
    }
   ],
   "source": [
    "testData.head(n=11)"
   ]
  },
  {
   "cell_type": "markdown",
   "id": "tender-looking",
   "metadata": {},
   "source": [
    "### IntText"
   ]
  },
  {
   "cell_type": "code",
   "execution_count": 34,
   "id": "roman-newport",
   "metadata": {},
   "outputs": [
    {
     "data": {
      "application/vnd.jupyter.widget-view+json": {
       "model_id": "3672c7a530214b618d94d0b48d9b402f",
       "version_major": 2,
       "version_minor": 0
      },
      "text/plain": [
       "IntText(value=0, description='Admissions:')"
      ]
     },
     "metadata": {},
     "output_type": "display_data"
    }
   ],
   "source": [
    "g=widgets.IntText(\n",
    "    value=0,\n",
    "    description='Admissions:',\n",
    "    disabled=False)\n",
    "display(g)"
   ]
  },
  {
   "cell_type": "code",
   "execution_count": 382,
   "id": "sublime-harbor",
   "metadata": {},
   "outputs": [
    {
     "data": {
      "text/html": [
       "<div>\n",
       "<style scoped>\n",
       "    .dataframe tbody tr th:only-of-type {\n",
       "        vertical-align: middle;\n",
       "    }\n",
       "\n",
       "    .dataframe tbody tr th {\n",
       "        vertical-align: top;\n",
       "    }\n",
       "\n",
       "    .dataframe thead th {\n",
       "        text-align: right;\n",
       "    }\n",
       "</style>\n",
       "<table border=\"1\" class=\"dataframe\">\n",
       "  <thead>\n",
       "    <tr style=\"text-align: right;\">\n",
       "      <th></th>\n",
       "      <th>index</th>\n",
       "      <th>period</th>\n",
       "      <th>org_code</th>\n",
       "      <th>attendances</th>\n",
       "      <th>breaches</th>\n",
       "      <th>admissions</th>\n",
       "      <th>breach_performance</th>\n",
       "      <th>admission_rate</th>\n",
       "      <th>consent</th>\n",
       "    </tr>\n",
       "  </thead>\n",
       "  <tbody>\n",
       "    <tr>\n",
       "      <th>0</th>\n",
       "      <td>12530</td>\n",
       "      <td>2018-04-01</td>\n",
       "      <td>RL4</td>\n",
       "      <td>10709</td>\n",
       "      <td>1704</td>\n",
       "      <td>2544</td>\n",
       "      <td>0.352025</td>\n",
       "      <td>0.352025</td>\n",
       "      <td>True</td>\n",
       "    </tr>\n",
       "  </tbody>\n",
       "</table>\n",
       "</div>"
      ],
      "text/plain": [
       "   index      period org_code  attendances  breaches  admissions  \\\n",
       "0  12530  2018-04-01      RL4        10709      1704        2544   \n",
       "\n",
       "   breach_performance  admission_rate  consent  \n",
       "0            0.352025        0.352025     True  "
      ]
     },
     "execution_count": 382,
     "metadata": {},
     "output_type": "execute_result"
    }
   ],
   "source": [
    "dfTofill.iloc[0,5]=g.value\n",
    "dfTofill"
   ]
  },
  {
   "cell_type": "markdown",
   "id": "indirect-hardware",
   "metadata": {},
   "source": [
    "# The performance variable\n",
    "The performance variable was calculated for the whole of England as (1 - breaches)/ attendances."
   ]
  },
  {
   "cell_type": "markdown",
   "id": "preliminary-economics",
   "metadata": {},
   "source": [
    "#### Data type\n",
    "We now need to check the data type in the testData data frame. Let us use the `dtypes` function from the Python *pandas* package to query the data types in the testData. The `dtypes` function returns the data types in the data frame."
   ]
  },
  {
   "cell_type": "code",
   "execution_count": 243,
   "id": "rolled-workstation",
   "metadata": {},
   "outputs": [],
   "source": [
    "# print(result[6])"
   ]
  },
  {
   "cell_type": "markdown",
   "id": "preliminary-banner",
   "metadata": {},
   "source": [
    "It is a float variable.\n",
    "\n",
    "##### The `head()` function\n",
    "The `head()` function lets you look at the top n rows of a data frame. By default, it shows the first five rows in a data frame. We can specify the number of rows we want to see in a data frame with the argument “n”. For example, look at the first row (n=1) of the test data:"
   ]
  },
  {
   "cell_type": "code",
   "execution_count": 244,
   "id": "derived-seeker",
   "metadata": {},
   "outputs": [],
   "source": [
    "#  testData.head(n=1)"
   ]
  },
  {
   "cell_type": "markdown",
   "id": "imported-uniform",
   "metadata": {},
   "source": [
    "### FloatText"
   ]
  },
  {
   "cell_type": "markdown",
   "id": "sunset-richards",
   "metadata": {},
   "source": [
    "# And the admission rate variable\n",
    "The admission rate variable was calculated as admissions/attendances."
   ]
  },
  {
   "cell_type": "code",
   "execution_count": 383,
   "id": "crazy-sleep",
   "metadata": {},
   "outputs": [
    {
     "data": {
      "text/html": [
       "<div>\n",
       "<style scoped>\n",
       "    .dataframe tbody tr th:only-of-type {\n",
       "        vertical-align: middle;\n",
       "    }\n",
       "\n",
       "    .dataframe tbody tr th {\n",
       "        vertical-align: top;\n",
       "    }\n",
       "\n",
       "    .dataframe thead th {\n",
       "        text-align: right;\n",
       "    }\n",
       "</style>\n",
       "<table border=\"1\" class=\"dataframe\">\n",
       "  <thead>\n",
       "    <tr style=\"text-align: right;\">\n",
       "      <th></th>\n",
       "      <th>index</th>\n",
       "      <th>period</th>\n",
       "      <th>org_code</th>\n",
       "      <th>attendances</th>\n",
       "      <th>breaches</th>\n",
       "      <th>admissions</th>\n",
       "      <th>breach_performance</th>\n",
       "      <th>admission_rate</th>\n",
       "      <th>consent</th>\n",
       "    </tr>\n",
       "  </thead>\n",
       "  <tbody>\n",
       "    <tr>\n",
       "      <th>0</th>\n",
       "      <td>12530</td>\n",
       "      <td>2018-04-01</td>\n",
       "      <td>RL4</td>\n",
       "      <td>10709</td>\n",
       "      <td>1704</td>\n",
       "      <td>2544</td>\n",
       "      <td>0.237557</td>\n",
       "      <td>0.237557</td>\n",
       "      <td>True</td>\n",
       "    </tr>\n",
       "  </tbody>\n",
       "</table>\n",
       "</div>"
      ],
      "text/plain": [
       "   index      period org_code  attendances  breaches  admissions  \\\n",
       "0  12530  2018-04-01      RL4        10709      1704        2544   \n",
       "\n",
       "   breach_performance  admission_rate  consent  \n",
       "0            0.237557        0.237557     True  "
      ]
     },
     "execution_count": 383,
     "metadata": {},
     "output_type": "execute_result"
    }
   ],
   "source": [
    "# h=widgets.FloatText(\n",
    "#     value=0.0,\n",
    "#     description='Performance:',\n",
    "#     disabled=False\n",
    "# )\n",
    "# display(h)\n",
    "\n",
    "def performance(row):\n",
    "    return 1-dfTofill.iloc[row,4]/dfTofill.iloc[row,3]\n",
    "h=float(performance(0))\n",
    "def admission(row):\n",
    "    return dfTofill.iloc[row,5]/dfTofill.iloc[row,3]\n",
    "h=float(admission(0))\n",
    "dfTofill.iloc[0,6]=h\n",
    "dfTofill.iloc[0,7]=h\n",
    "dfTofill"
   ]
  },
  {
   "cell_type": "markdown",
   "id": "concerned-algeria",
   "metadata": {},
   "source": [
    "# Concatenating the collected data to the CollectData data frame.   \n",
    "Let us use the `concat()` function from the Python *pandas* package to append the CollectData and dfTofill data frames. The concat() function is used to concatenate *pandas* objects."
   ]
  },
  {
   "cell_type": "code",
   "execution_count": 384,
   "id": "reserved-tomato",
   "metadata": {},
   "outputs": [
    {
     "data": {
      "text/html": [
       "<div>\n",
       "<style scoped>\n",
       "    .dataframe tbody tr th:only-of-type {\n",
       "        vertical-align: middle;\n",
       "    }\n",
       "\n",
       "    .dataframe tbody tr th {\n",
       "        vertical-align: top;\n",
       "    }\n",
       "\n",
       "    .dataframe thead th {\n",
       "        text-align: right;\n",
       "    }\n",
       "</style>\n",
       "<table border=\"1\" class=\"dataframe\">\n",
       "  <thead>\n",
       "    <tr style=\"text-align: right;\">\n",
       "      <th></th>\n",
       "      <th>index</th>\n",
       "      <th>period</th>\n",
       "      <th>org_code</th>\n",
       "      <th>attendances</th>\n",
       "      <th>breaches</th>\n",
       "      <th>admissions</th>\n",
       "      <th>breach_performance</th>\n",
       "      <th>admission_rate</th>\n",
       "      <th>consent</th>\n",
       "    </tr>\n",
       "  </thead>\n",
       "  <tbody>\n",
       "    <tr>\n",
       "      <th>0</th>\n",
       "      <td>2881</td>\n",
       "      <td>2016-07-01</td>\n",
       "      <td>RXK</td>\n",
       "      <td>1488</td>\n",
       "      <td>2128</td>\n",
       "      <td>3141</td>\n",
       "      <td>-0.430108</td>\n",
       "      <td>2.110887</td>\n",
       "      <td>True</td>\n",
       "    </tr>\n",
       "    <tr>\n",
       "      <th>0</th>\n",
       "      <td>2896</td>\n",
       "      <td>2016-07-01</td>\n",
       "      <td>RNA</td>\n",
       "      <td>8947</td>\n",
       "      <td>596</td>\n",
       "      <td>2599</td>\n",
       "      <td>0.933385</td>\n",
       "      <td>0.290488</td>\n",
       "      <td>True</td>\n",
       "    </tr>\n",
       "    <tr>\n",
       "      <th>0</th>\n",
       "      <td>4258</td>\n",
       "      <td>2018-03-01</td>\n",
       "      <td>RXK</td>\n",
       "      <td>13805</td>\n",
       "      <td>3556</td>\n",
       "      <td>3429</td>\n",
       "      <td>0.742412</td>\n",
       "      <td>0.248388</td>\n",
       "      <td>True</td>\n",
       "    </tr>\n",
       "    <tr>\n",
       "      <th>0</th>\n",
       "      <td>4281</td>\n",
       "      <td>2018-03-01</td>\n",
       "      <td>RRK</td>\n",
       "      <td>9936</td>\n",
       "      <td>2154</td>\n",
       "      <td>3896</td>\n",
       "      <td>0.783213</td>\n",
       "      <td>0.392110</td>\n",
       "      <td>True</td>\n",
       "    </tr>\n",
       "    <tr>\n",
       "      <th>0</th>\n",
       "      <td>5043</td>\n",
       "      <td>2018-01-01</td>\n",
       "      <td>RLQ</td>\n",
       "      <td>4532</td>\n",
       "      <td>1263</td>\n",
       "      <td>1437</td>\n",
       "      <td>0.317079</td>\n",
       "      <td>0.317079</td>\n",
       "      <td>True</td>\n",
       "    </tr>\n",
       "    <tr>\n",
       "      <th>0</th>\n",
       "      <td>6471</td>\n",
       "      <td>2017-09-01</td>\n",
       "      <td>RWP</td>\n",
       "      <td>9817</td>\n",
       "      <td>2716</td>\n",
       "      <td>2921</td>\n",
       "      <td>0.297545</td>\n",
       "      <td>0.297545</td>\n",
       "      <td>True</td>\n",
       "    </tr>\n",
       "    <tr>\n",
       "      <th>0</th>\n",
       "      <td>7137</td>\n",
       "      <td>2017-07-01</td>\n",
       "      <td>RJC</td>\n",
       "      <td>5811</td>\n",
       "      <td>297</td>\n",
       "      <td>1617</td>\n",
       "      <td>0.278265</td>\n",
       "      <td>0.278265</td>\n",
       "      <td>True</td>\n",
       "    </tr>\n",
       "    <tr>\n",
       "      <th>0</th>\n",
       "      <td>7509</td>\n",
       "      <td>2017-06-01</td>\n",
       "      <td>RWP</td>\n",
       "      <td>10313</td>\n",
       "      <td>2824</td>\n",
       "      <td>3174</td>\n",
       "      <td>0.307767</td>\n",
       "      <td>0.307767</td>\n",
       "      <td>True</td>\n",
       "    </tr>\n",
       "    <tr>\n",
       "      <th>0</th>\n",
       "      <td>9577</td>\n",
       "      <td>2018-12-01</td>\n",
       "      <td>RXK</td>\n",
       "      <td>13604</td>\n",
       "      <td>4432</td>\n",
       "      <td>3744</td>\n",
       "      <td>0.275213</td>\n",
       "      <td>0.275213</td>\n",
       "      <td>True</td>\n",
       "    </tr>\n",
       "    <tr>\n",
       "      <th>0</th>\n",
       "      <td>10327</td>\n",
       "      <td>2018-10-01</td>\n",
       "      <td>RKB</td>\n",
       "      <td>12519</td>\n",
       "      <td>1937</td>\n",
       "      <td>4407</td>\n",
       "      <td>0.352025</td>\n",
       "      <td>0.352025</td>\n",
       "      <td>True</td>\n",
       "    </tr>\n",
       "    <tr>\n",
       "      <th>0</th>\n",
       "      <td>12530</td>\n",
       "      <td>2018-04-01</td>\n",
       "      <td>RL4</td>\n",
       "      <td>10709</td>\n",
       "      <td>1704</td>\n",
       "      <td>2544</td>\n",
       "      <td>0.237557</td>\n",
       "      <td>0.237557</td>\n",
       "      <td>True</td>\n",
       "    </tr>\n",
       "  </tbody>\n",
       "</table>\n",
       "</div>"
      ],
      "text/plain": [
       "   index      period org_code  attendances  breaches  admissions  \\\n",
       "0   2881  2016-07-01      RXK         1488      2128        3141   \n",
       "0   2896  2016-07-01      RNA         8947       596        2599   \n",
       "0   4258  2018-03-01      RXK        13805      3556        3429   \n",
       "0   4281  2018-03-01      RRK         9936      2154        3896   \n",
       "0   5043  2018-01-01      RLQ         4532      1263        1437   \n",
       "0   6471  2017-09-01      RWP         9817      2716        2921   \n",
       "0   7137  2017-07-01      RJC         5811       297        1617   \n",
       "0   7509  2017-06-01      RWP        10313      2824        3174   \n",
       "0   9577  2018-12-01      RXK        13604      4432        3744   \n",
       "0  10327  2018-10-01      RKB        12519      1937        4407   \n",
       "0  12530  2018-04-01      RL4        10709      1704        2544   \n",
       "\n",
       "   breach_performance  admission_rate  consent  \n",
       "0           -0.430108        2.110887     True  \n",
       "0            0.933385        0.290488     True  \n",
       "0            0.742412        0.248388     True  \n",
       "0            0.783213        0.392110     True  \n",
       "0            0.317079        0.317079     True  \n",
       "0            0.297545        0.297545     True  \n",
       "0            0.278265        0.278265     True  \n",
       "0            0.307767        0.307767     True  \n",
       "0            0.275213        0.275213     True  \n",
       "0            0.352025        0.352025     True  \n",
       "0            0.237557        0.237557     True  "
      ]
     },
     "metadata": {},
     "output_type": "display_data"
    }
   ],
   "source": [
    "# CollectData is the first data frame\n",
    "# dfTofill is the second data frame\n",
    "CollectData  = pd.concat([CollectData, dfTofill])\n",
    "display(CollectData)"
   ]
  },
  {
   "cell_type": "markdown",
   "id": "balanced-worship",
   "metadata": {},
   "source": [
    "## Have you consent to process and share the data before you save it to the working data folder?\n",
    "\n",
    "Before we save our data to file, we must make sure we have consent to do so. The following line of code, will ensure that you have consent to save data."
   ]
  },
  {
   "cell_type": "code",
   "execution_count": 385,
   "id": "worthy-vegetarian",
   "metadata": {},
   "outputs": [
    {
     "data": {
      "text/html": [
       "<div>\n",
       "<style scoped>\n",
       "    .dataframe tbody tr th:only-of-type {\n",
       "        vertical-align: middle;\n",
       "    }\n",
       "\n",
       "    .dataframe tbody tr th {\n",
       "        vertical-align: top;\n",
       "    }\n",
       "\n",
       "    .dataframe thead th {\n",
       "        text-align: right;\n",
       "    }\n",
       "</style>\n",
       "<table border=\"1\" class=\"dataframe\">\n",
       "  <thead>\n",
       "    <tr style=\"text-align: right;\">\n",
       "      <th></th>\n",
       "      <th>index</th>\n",
       "      <th>period</th>\n",
       "      <th>org_code</th>\n",
       "      <th>attendances</th>\n",
       "      <th>breaches</th>\n",
       "      <th>admissions</th>\n",
       "      <th>breach_performance</th>\n",
       "      <th>admission_rate</th>\n",
       "      <th>consent</th>\n",
       "    </tr>\n",
       "  </thead>\n",
       "  <tbody>\n",
       "    <tr>\n",
       "      <th>0</th>\n",
       "      <td>2881</td>\n",
       "      <td>2016-07-01</td>\n",
       "      <td>RXK</td>\n",
       "      <td>1488</td>\n",
       "      <td>2128</td>\n",
       "      <td>3141</td>\n",
       "      <td>-0.430108</td>\n",
       "      <td>2.110887</td>\n",
       "      <td>True</td>\n",
       "    </tr>\n",
       "    <tr>\n",
       "      <th>0</th>\n",
       "      <td>2896</td>\n",
       "      <td>2016-07-01</td>\n",
       "      <td>RNA</td>\n",
       "      <td>8947</td>\n",
       "      <td>596</td>\n",
       "      <td>2599</td>\n",
       "      <td>0.933385</td>\n",
       "      <td>0.290488</td>\n",
       "      <td>True</td>\n",
       "    </tr>\n",
       "    <tr>\n",
       "      <th>0</th>\n",
       "      <td>4258</td>\n",
       "      <td>2018-03-01</td>\n",
       "      <td>RXK</td>\n",
       "      <td>13805</td>\n",
       "      <td>3556</td>\n",
       "      <td>3429</td>\n",
       "      <td>0.742412</td>\n",
       "      <td>0.248388</td>\n",
       "      <td>True</td>\n",
       "    </tr>\n",
       "    <tr>\n",
       "      <th>0</th>\n",
       "      <td>4281</td>\n",
       "      <td>2018-03-01</td>\n",
       "      <td>RRK</td>\n",
       "      <td>9936</td>\n",
       "      <td>2154</td>\n",
       "      <td>3896</td>\n",
       "      <td>0.783213</td>\n",
       "      <td>0.392110</td>\n",
       "      <td>True</td>\n",
       "    </tr>\n",
       "    <tr>\n",
       "      <th>0</th>\n",
       "      <td>5043</td>\n",
       "      <td>2018-01-01</td>\n",
       "      <td>RLQ</td>\n",
       "      <td>4532</td>\n",
       "      <td>1263</td>\n",
       "      <td>1437</td>\n",
       "      <td>0.317079</td>\n",
       "      <td>0.317079</td>\n",
       "      <td>True</td>\n",
       "    </tr>\n",
       "    <tr>\n",
       "      <th>0</th>\n",
       "      <td>6471</td>\n",
       "      <td>2017-09-01</td>\n",
       "      <td>RWP</td>\n",
       "      <td>9817</td>\n",
       "      <td>2716</td>\n",
       "      <td>2921</td>\n",
       "      <td>0.297545</td>\n",
       "      <td>0.297545</td>\n",
       "      <td>True</td>\n",
       "    </tr>\n",
       "    <tr>\n",
       "      <th>0</th>\n",
       "      <td>7137</td>\n",
       "      <td>2017-07-01</td>\n",
       "      <td>RJC</td>\n",
       "      <td>5811</td>\n",
       "      <td>297</td>\n",
       "      <td>1617</td>\n",
       "      <td>0.278265</td>\n",
       "      <td>0.278265</td>\n",
       "      <td>True</td>\n",
       "    </tr>\n",
       "    <tr>\n",
       "      <th>0</th>\n",
       "      <td>7509</td>\n",
       "      <td>2017-06-01</td>\n",
       "      <td>RWP</td>\n",
       "      <td>10313</td>\n",
       "      <td>2824</td>\n",
       "      <td>3174</td>\n",
       "      <td>0.307767</td>\n",
       "      <td>0.307767</td>\n",
       "      <td>True</td>\n",
       "    </tr>\n",
       "    <tr>\n",
       "      <th>0</th>\n",
       "      <td>9577</td>\n",
       "      <td>2018-12-01</td>\n",
       "      <td>RXK</td>\n",
       "      <td>13604</td>\n",
       "      <td>4432</td>\n",
       "      <td>3744</td>\n",
       "      <td>0.275213</td>\n",
       "      <td>0.275213</td>\n",
       "      <td>True</td>\n",
       "    </tr>\n",
       "    <tr>\n",
       "      <th>0</th>\n",
       "      <td>10327</td>\n",
       "      <td>2018-10-01</td>\n",
       "      <td>RKB</td>\n",
       "      <td>12519</td>\n",
       "      <td>1937</td>\n",
       "      <td>4407</td>\n",
       "      <td>0.352025</td>\n",
       "      <td>0.352025</td>\n",
       "      <td>True</td>\n",
       "    </tr>\n",
       "    <tr>\n",
       "      <th>0</th>\n",
       "      <td>12530</td>\n",
       "      <td>2018-04-01</td>\n",
       "      <td>RL4</td>\n",
       "      <td>10709</td>\n",
       "      <td>1704</td>\n",
       "      <td>2544</td>\n",
       "      <td>0.237557</td>\n",
       "      <td>0.237557</td>\n",
       "      <td>True</td>\n",
       "    </tr>\n",
       "  </tbody>\n",
       "</table>\n",
       "</div>"
      ],
      "text/plain": [
       "   index      period org_code  attendances  breaches  admissions  \\\n",
       "0   2881  2016-07-01      RXK         1488      2128        3141   \n",
       "0   2896  2016-07-01      RNA         8947       596        2599   \n",
       "0   4258  2018-03-01      RXK        13805      3556        3429   \n",
       "0   4281  2018-03-01      RRK         9936      2154        3896   \n",
       "0   5043  2018-01-01      RLQ         4532      1263        1437   \n",
       "0   6471  2017-09-01      RWP         9817      2716        2921   \n",
       "0   7137  2017-07-01      RJC         5811       297        1617   \n",
       "0   7509  2017-06-01      RWP        10313      2824        3174   \n",
       "0   9577  2018-12-01      RXK        13604      4432        3744   \n",
       "0  10327  2018-10-01      RKB        12519      1937        4407   \n",
       "0  12530  2018-04-01      RL4        10709      1704        2544   \n",
       "\n",
       "   breach_performance  admission_rate  consent  \n",
       "0           -0.430108        2.110887     True  \n",
       "0            0.933385        0.290488     True  \n",
       "0            0.742412        0.248388     True  \n",
       "0            0.783213        0.392110     True  \n",
       "0            0.317079        0.317079     True  \n",
       "0            0.297545        0.297545     True  \n",
       "0            0.278265        0.278265     True  \n",
       "0            0.307767        0.307767     True  \n",
       "0            0.275213        0.275213     True  \n",
       "0            0.352025        0.352025     True  \n",
       "0            0.237557        0.237557     True  "
      ]
     },
     "metadata": {},
     "output_type": "display_data"
    }
   ],
   "source": [
    "CollectData=CollectData[CollectData['consent'] == True]\n",
    "display(CollectData)"
   ]
  },
  {
   "cell_type": "markdown",
   "id": "above-league",
   "metadata": {},
   "source": [
    "### Saving the CollectData data frame\n",
    "Saving the data collected by your data-capture tool to the working data folder:"
   ]
  },
  {
   "cell_type": "code",
   "execution_count": 386,
   "id": "undefined-bristol",
   "metadata": {},
   "outputs": [],
   "source": [
    "CollectData.to_csv('../Data/CollectedData.csv', index=False)"
   ]
  },
  {
   "cell_type": "markdown",
   "id": "banned-basic",
   "metadata": {},
   "source": [
    "That is the CollectData data frame saved to the working 'Data' folder. You need to iterate through this Notebook until you have collected all of your test data and then save the captured test data to your 'RawData' folder."
   ]
  },
  {
   "cell_type": "code",
   "execution_count": 387,
   "id": "integral-basketball",
   "metadata": {},
   "outputs": [],
   "source": [
    "CollectData.to_csv('../RawData/CollectedDataFinal.csv', index=False)"
   ]
  },
  {
   "cell_type": "markdown",
   "id": "previous-swift",
   "metadata": {},
   "source": [
    "That is the final CollectData data frame saved to the 'RawData' folder. \n",
    "\n",
    "I hope these examples help you to improve your Python programming skills. Happy Coding!"
   ]
  }
 ],
 "metadata": {
  "kernelspec": {
   "display_name": "Python 3 (ipykernel)",
   "language": "python",
   "name": "python3"
  },
  "language_info": {
   "codemirror_mode": {
    "name": "ipython",
    "version": 3
   },
   "file_extension": ".py",
   "mimetype": "text/x-python",
   "name": "python",
   "nbconvert_exporter": "python",
   "pygments_lexer": "ipython3",
   "version": "3.9.2"
  }
 },
 "nbformat": 4,
 "nbformat_minor": 5
}
